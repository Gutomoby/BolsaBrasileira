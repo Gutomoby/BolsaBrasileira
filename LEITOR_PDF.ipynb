{
  "nbformat": 4,
  "nbformat_minor": 0,
  "metadata": {
    "colab": {
      "name": "LEITOR_PDF.ipynb",
      "provenance": [],
      "collapsed_sections": [],
      "authorship_tag": "ABX9TyMb4IKkfMTj/fKfA3aIe/k6",
      "include_colab_link": true
    },
    "kernelspec": {
      "name": "python3",
      "display_name": "Python 3"
    }
  },
  "cells": [
    {
      "cell_type": "markdown",
      "metadata": {
        "id": "view-in-github",
        "colab_type": "text"
      },
      "source": [
        "<a href=\"https://colab.research.google.com/github/Gutomoby/BolsaBrasileira/blob/main/LEITOR_PDF.ipynb\" target=\"_parent\"><img src=\"https://colab.research.google.com/assets/colab-badge.svg\" alt=\"Open In Colab\"/></a>"
      ]
    },
    {
      "cell_type": "markdown",
      "metadata": {
        "id": "mDeOZ2Qnm0qM"
      },
      "source": [
        "# LEITOR DE PDF"
      ]
    },
    {
      "cell_type": "code",
      "source": [
        "from sys import api_version\n",
        "import requests\n",
        "import pdfplumber\n",
        "import pandas as pd\n",
        "from collections import namedtuple\n",
        "\n",
        "def download_file(url):\n",
        "  local_filename = url.split('/')[-1]\n",
        "  with requests.get(url) as r:\n",
        "    with open(local_filename, 'wb') as f:\n",
        "      f.write(r.content)\n",
        "\n",
        "  return local_filename\n",
        "\n",
        "ap_url = 'http://www.b3.com.br/data/files/1C/20/5B/9D/02B177108F39C077AC094EA8/GLP%20Logistica%20-%20Prospecto%20Preliminar.pdf'\n",
        "ap = download_file(ap_url)\n",
        "pdf = pdfplumber.open(ap)\n",
        "n = len(pdf.pages)\n",
        "\n",
        "for i in range (0,n):\n",
        "  with pdfplumber.open(ap) as pdf:\n",
        "    page = pdf.pages[i]\n",
        "    text = page.extract_text()\n",
        "    print(text)"
      ],
      "metadata": {
        "id": "wpfgPd984nJW"
      },
      "execution_count": null,
      "outputs": []
    }
  ]
}