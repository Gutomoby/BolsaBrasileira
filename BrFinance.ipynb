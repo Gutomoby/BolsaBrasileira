{
  "cells": [
    {
      "cell_type": "markdown",
      "metadata": {
        "id": "view-in-github",
        "colab_type": "text"
      },
      "source": [
        "<a href=\"https://colab.research.google.com/github/Gutomoby/BolsaBrasileira/blob/main/BrFinance.ipynb\" target=\"_parent\"><img src=\"https://colab.research.google.com/assets/colab-badge.svg\" alt=\"Open In Colab\"/></a>"
      ]
    },
    {
      "cell_type": "code",
      "source": [
        "!pip install brfinance"
      ],
      "metadata": {
        "id": "dyzFnvDSt60D"
      },
      "execution_count": null,
      "outputs": []
    },
    {
      "cell_type": "code",
      "source": [
        "import brfinance as brf"
      ],
      "metadata": {
        "id": "JTe9kuJhuASW"
      },
      "execution_count": 2,
      "outputs": []
    },
    {
      "cell_type": "code",
      "source": [
        "import pandas as pd\n",
        "\n",
        "from brfinance import CVMAsyncBackend\n",
        "\n",
        "from datetime import datetime, date\n",
        "\n",
        "\n",
        "cvm_httpclient = CVMAsyncBackend()"
      ],
      "metadata": {
        "id": "guTxiaJMufP_"
      },
      "execution_count": 4,
      "outputs": []
    },
    {
      "cell_type": "code",
      "source": [
        "cvm_codes = cvm_httpclient.get_cvm_codes()\n",
        "display(cvm_codes)\n",
        "\n",
        "# Dict de todas as categorias de busca disponíveis (Fato relevante, DFP, ITR, etc.)\n",
        "categories = cvm_httpclient.get_consulta_externa_cvm_categories()\n",
        "display(categories)"
      ],
      "metadata": {
        "id": "BBwrYKcrul2N"
      },
      "execution_count": null,
      "outputs": []
    },
    {
      "cell_type": "code",
      "source": [
        "start_date = date(2010, 1, 1)\n",
        "end_dt = date(2022, 1, 1)\n",
        "cvm_codes_string = \"021610,005410\" # B3 e WEG\n",
        "report_type = [\"EST_4\", \"EST_3\", \"IPE_4_-1_-1\"] # Códigos de categoria para DFP, ITR e fatos relevantes\n",
        "report_type = \",\".join(report_type) # Busca de DFP, ITR e fatos relevantes, separados por \",\"\n",
        "last_ref_date = True # Se \"True\" retorna apenas o último report no intervalo de datas\n",
        "reports_list = [\n",
        "    'Balanço Patrimonial Ativo',\n",
        "    'Balanço Patrimonial Passivo',\n",
        "    'Demonstração do Resultado',\n",
        "    'Demonstração do Resultado Abrangente',\n",
        "    'Demonstração do Fluxo de Caixa',\n",
        "    'Demonstração das Mutações do Patrimônio Líquido',\n",
        "    'Demonstração de Valor Adicionado'] # Se None retorna todos os demonstrativos disponíveis.\n",
        "\n",
        "# \"get_consulta_externa_cvm_results\" retorna um dataframe com os dados da busca\n",
        "search_result = cvm_httpclient.get_consulta_externa_cvm_results(\n",
        "    cod_cvm=cvm_codes_string,\n",
        "    start_date=start_date,\n",
        "    end_date=end_dt,\n",
        "    last_ref_date=last_ref_date,\n",
        "    report_type=report_type\n",
        "    )\n",
        "\n",
        "display(search_result)"
      ],
      "metadata": {
        "id": "ZI4j9qRGvDN_"
      },
      "execution_count": null,
      "outputs": []
    },
    {
      "cell_type": "code",
      "source": [
        "# Obter demonstrativos\n",
        "\n",
        "# Filtro search_result para ITR e DFP apenas\n",
        "search_result = search_result[\n",
        "    (search_result['categoria']==\"DFP - Demonstrações Financeiras Padronizadas\") |\n",
        "    (search_result['categoria']==\"ITR - Informações Trimestrais\")]\n",
        "\n",
        "search_result = search_result[pd.to_numeric(search_result['numero_seq_documento'], errors='coerce').notnull()]\n",
        "\n",
        "for index, row in search_result.iterrows():\n",
        "    empresa = f\"{row['cod_cvm']} - {cvm_codes[row['cod_cvm']]} - {row['numero_seq_documento']} - {row['codigo_tipo_instituicao']}\"\n",
        "    print(\"*\" * 20, empresa, \"*\" * 20)\n",
        "    \n",
        "    reports = cvm_httpclient.get_report(row[\"numero_seq_documento\"], row[\"codigo_tipo_instituicao\"], reports_list=reports_list)\n",
        "    for report in reports:\n",
        "        print(report)\n",
        "        reports[report][\"cod_cvm\"] = row[\"cod_cvm\"]\n",
        "        display(reports[report].head())"
      ],
      "metadata": {
        "id": "eyfT7jG6umwB"
      },
      "execution_count": null,
      "outputs": []
    }
  ],
  "metadata": {
    "colab": {
      "name": "BrFinance.ipynb",
      "provenance": [],
      "authorship_tag": "ABX9TyNr8idv+T0yFQtoaWioN/cO",
      "include_colab_link": true
    },
    "kernelspec": {
      "display_name": "Python 3",
      "name": "python3"
    },
    "language_info": {
      "name": "python"
    }
  },
  "nbformat": 4,
  "nbformat_minor": 0
}