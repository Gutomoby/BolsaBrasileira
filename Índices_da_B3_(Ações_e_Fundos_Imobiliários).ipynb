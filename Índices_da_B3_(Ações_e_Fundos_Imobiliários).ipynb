{
  "nbformat": 4,
  "nbformat_minor": 0,
  "metadata": {
    "colab": {
      "name": "Índices da B3 (Ações e Fundos Imobiliários).ipynb",
      "provenance": [],
      "collapsed_sections": [],
      "include_colab_link": true
    },
    "kernelspec": {
      "name": "python3",
      "display_name": "Python 3"
    }
  },
  "cells": [
    {
      "cell_type": "markdown",
      "metadata": {
        "id": "view-in-github",
        "colab_type": "text"
      },
      "source": [
        "<a href=\"https://colab.research.google.com/github/Gutomoby/BolsaBrasileira/blob/main/%C3%8Dndices_da_B3_(A%C3%A7%C3%B5es_e_Fundos_Imobili%C3%A1rios).ipynb\" target=\"_parent\"><img src=\"https://colab.research.google.com/assets/colab-badge.svg\" alt=\"Open In Colab\"/></a>"
      ]
    },
    {
      "cell_type": "code",
      "metadata": {
        "id": "seHYxseej08T",
        "colab": {
          "base_uri": "https://localhost:8080/"
        },
        "outputId": "a039510c-0d7a-46dd-af0d-ac0c11e8e761"
      },
      "source": [
        "!pip install -q kora"
      ],
      "execution_count": null,
      "outputs": [
        {
          "output_type": "stream",
          "text": [
            "\u001b[K     |████████████████████████████████| 61kB 6.1MB/s \n",
            "\u001b[K     |████████████████████████████████| 61kB 7.1MB/s \n",
            "\u001b[?25h"
          ],
          "name": "stdout"
        }
      ]
    },
    {
      "cell_type": "code",
      "metadata": {
        "id": "-CcYEDPXj7kN"
      },
      "source": [
        "from kora.selenium import wd\n",
        "\n",
        "import pandas as pd\n",
        "from google.colab.data_table import DataTable\n",
        "from time import sleep"
      ],
      "execution_count": null,
      "outputs": []
    },
    {
      "cell_type": "markdown",
      "metadata": {
        "id": "FfkhzXkbvL7-"
      },
      "source": [
        "## Lista de Índices"
      ]
    },
    {
      "cell_type": "markdown",
      "metadata": {
        "id": "PH96YnJDko82"
      },
      "source": [
        "| Código | Índice| Composição|\n",
        "|---|---|:---|\n",
        "| IBOV | Índice Bovespa|É o principal indicador de desempenho das ações negociadas na B3 e reúne as empresas mais importantes do mercado de capitais brasileiro|\n",
        "| IBXX | Índice IBrX 100| 100 ativos de maior negociabilidade e representatividade do mercado de ações brasileiro.|\n",
        "| IBXL | Índice IBrX 50|50 ativos de maior negociabilidade e representatividade do mercado de ações brasileiro.|\n",
        "| IBRA | Índice Brasil Amplo|O objetivo do IBrA é ser o indicador do desempenho médio das cotações de todos os ativos negociados no mercado a vista (lote-padrão) da B3 que atendam a critérios mínimos de liquidez e presença em pregão, de forma a oferecer uma visão ampla do mercado acionário.|\n",
        "| IFNC | Índice Financeiro|ativos de maior negociabilidade e representatividade dos setores de intermediários financeiros, serviços financeiros diversos, previdência e seguros.|\n",
        "| ICON | Índice de Consumo|ativos de maior negociabilidade e representatividade dos setores de consumo cíclico, consumo não cíclico e saúde.|\n",
        "| IEEX | Índice de Energia Elétrica|ativos de maior negociabilidade e representatividade do setor de energia elétrica.|\n",
        "| IFIX | Índice de Fundos Imobiliários |fundos imobiliários negociados nos mercados de bolsa e de balcão organizado da B3.|\n",
        "| IFIL | Índice de Fundos Imobiliários de Alta Liquidez |fundos imobiliários mais líquidos negociados nos mercados de bolsa e de balcão organizado da B3.|\n",
        "| IMAT | Índice de Materiais Básicos |ativos de maior negociabilidade e representatividade do setor de materiais básicos.|\n",
        "| IDIV | Índice Dividendos |ativos que se destacaram em termos de remuneração dos investidores, sob a forma de dividendos e juros sobre o capital próprio.|\n",
        "| INDX | Índice do Setor Industrial |ativos de maior negociabilidade e representatividade dos setores da atividade industrial compreendidos por materiais básicos, bens industriais, consumo cíclico, consumo não cíclico, tecnologia da informação e saúde.|\n",
        "| IMOB | Índice Imobiliário | ativos de maior negociabilidade e representatividade dos setores da atividade imobiliária compreendidos por exploração de imóveis e construção civil.|\n",
        "| MLCX | Índice MidLarge Cap |ativos de uma carteira composta pelas empresas de maior capitalização.|\n",
        "| SMLL | Índice Small Cap| empresas de menor capitalização.|\n",
        "| UTIL | Índice Utilidade Pública |ativos de maior negociabilidade e representatividade do setor de utilidade pública (energia elétrica, água e saneamento e gás).|\n",
        "| IVBX |Índice Valor| empresas bem conceituadas pelos investidores.|\n",
        "\n",
        "\n"
      ]
    },
    {
      "cell_type": "markdown",
      "metadata": {
        "id": "WwZ5fKSRXu_r"
      },
      "source": [
        "## Código"
      ]
    },
    {
      "cell_type": "code",
      "metadata": {
        "id": "PmsJruRoASc0"
      },
      "source": [
        "def busca_carteira_teorica(indice, espera=8):\n",
        "  url = f'https://sistemaswebb3-listados.b3.com.br/indexPage/day/{indice.upper()}?language=pt-br'  \n",
        "  wd.get(url)\n",
        "  sleep(espera)\n",
        "\n",
        "  wd.find_element_by_id('segment').send_keys(\"Setor de Atuação\")\n",
        "  sleep(espera)\n",
        "\n",
        "  wd.find_element_by_link_text(\"Download\").click()\n",
        "  sleep(espera)\n",
        "  \n",
        "  arquivos = !ls -1t *.csv    \n",
        "  return pd.read_csv(arquivos[0], sep=';', encoding='ISO-8859-1',skipfooter=2, engine='python', thousands='.', decimal=',', header=1, index_col=False)"
      ],
      "execution_count": null,
      "outputs": []
    },
    {
      "cell_type": "code",
      "metadata": {
        "id": "bMck_-ue7ogj"
      },
      "source": [
        "ibov = busca_carteira_teorica('ibov',5)"
      ],
      "execution_count": null,
      "outputs": []
    },
    {
      "cell_type": "code",
      "metadata": {
        "colab": {
          "base_uri": "https://localhost:8080/",
          "height": 423
        },
        "id": "LbZJ4VBlG2tr",
        "outputId": "ae509b7a-7347-46c3-a6b1-560552aa3171"
      },
      "source": [
        "ibov"
      ],
      "execution_count": null,
      "outputs": [
        {
          "output_type": "execute_result",
          "data": {
            "text/html": [
              "<div>\n",
              "<style scoped>\n",
              "    .dataframe tbody tr th:only-of-type {\n",
              "        vertical-align: middle;\n",
              "    }\n",
              "\n",
              "    .dataframe tbody tr th {\n",
              "        vertical-align: top;\n",
              "    }\n",
              "\n",
              "    .dataframe thead th {\n",
              "        text-align: right;\n",
              "    }\n",
              "</style>\n",
              "<table border=\"1\" class=\"dataframe\">\n",
              "  <thead>\n",
              "    <tr style=\"text-align: right;\">\n",
              "      <th></th>\n",
              "      <th>Setor</th>\n",
              "      <th>Código</th>\n",
              "      <th>Ação</th>\n",
              "      <th>Tipo</th>\n",
              "      <th>Qtde. Teórica</th>\n",
              "      <th>Part. (%)</th>\n",
              "      <th>Part. (%)Acum.</th>\n",
              "    </tr>\n",
              "  </thead>\n",
              "  <tbody>\n",
              "    <tr>\n",
              "      <th>0</th>\n",
              "      <td>Bens Indls / Máqs e Equips</td>\n",
              "      <td>WEGE3</td>\n",
              "      <td>WEG</td>\n",
              "      <td>ON      NM</td>\n",
              "      <td>1482296002</td>\n",
              "      <td>2.267</td>\n",
              "      <td>2.267</td>\n",
              "    </tr>\n",
              "    <tr>\n",
              "      <th>1</th>\n",
              "      <td>Bens Indls / Mat Transporte</td>\n",
              "      <td>EMBR3</td>\n",
              "      <td>EMBRAER</td>\n",
              "      <td>ON      NM</td>\n",
              "      <td>736143105</td>\n",
              "      <td>0.590</td>\n",
              "      <td>0.590</td>\n",
              "    </tr>\n",
              "    <tr>\n",
              "      <th>2</th>\n",
              "      <td>Bens Indls/Transporte</td>\n",
              "      <td>AZUL4</td>\n",
              "      <td>AZUL</td>\n",
              "      <td>PN      N2</td>\n",
              "      <td>327262616</td>\n",
              "      <td>0.594</td>\n",
              "      <td>2.656</td>\n",
              "    </tr>\n",
              "    <tr>\n",
              "      <th>3</th>\n",
              "      <td>Bens Indls/Transporte</td>\n",
              "      <td>CCRO3</td>\n",
              "      <td>CCR SA</td>\n",
              "      <td>ON      NM</td>\n",
              "      <td>1115693556</td>\n",
              "      <td>0.652</td>\n",
              "      <td>2.656</td>\n",
              "    </tr>\n",
              "    <tr>\n",
              "      <th>4</th>\n",
              "      <td>Bens Indls/Transporte</td>\n",
              "      <td>ECOR3</td>\n",
              "      <td>ECORODOVIAS</td>\n",
              "      <td>ON      NM</td>\n",
              "      <td>330237914</td>\n",
              "      <td>0.164</td>\n",
              "      <td>2.656</td>\n",
              "    </tr>\n",
              "    <tr>\n",
              "      <th>...</th>\n",
              "      <td>...</td>\n",
              "      <td>...</td>\n",
              "      <td>...</td>\n",
              "      <td>...</td>\n",
              "      <td>...</td>\n",
              "      <td>...</td>\n",
              "      <td>...</td>\n",
              "    </tr>\n",
              "    <tr>\n",
              "      <th>79</th>\n",
              "      <td>Utilidade Públ / Energ Elétrica</td>\n",
              "      <td>ENGI11</td>\n",
              "      <td>ENERGISA</td>\n",
              "      <td>UNT     N2</td>\n",
              "      <td>250679709</td>\n",
              "      <td>0.498</td>\n",
              "      <td>5.562</td>\n",
              "    </tr>\n",
              "    <tr>\n",
              "      <th>80</th>\n",
              "      <td>Utilidade Públ / Energ Elétrica</td>\n",
              "      <td>ENEV3</td>\n",
              "      <td>ENEVA</td>\n",
              "      <td>ON      NM</td>\n",
              "      <td>1248545726</td>\n",
              "      <td>0.952</td>\n",
              "      <td>5.562</td>\n",
              "    </tr>\n",
              "    <tr>\n",
              "      <th>81</th>\n",
              "      <td>Utilidade Públ / Energ Elétrica</td>\n",
              "      <td>EGIE3</td>\n",
              "      <td>ENGIE BRASIL</td>\n",
              "      <td>ON      NM</td>\n",
              "      <td>254792279</td>\n",
              "      <td>0.440</td>\n",
              "      <td>5.562</td>\n",
              "    </tr>\n",
              "    <tr>\n",
              "      <th>82</th>\n",
              "      <td>Utilidade Públ / Energ Elétrica</td>\n",
              "      <td>EQTL3</td>\n",
              "      <td>EQUATORIAL</td>\n",
              "      <td>ON      NM</td>\n",
              "      <td>1010286085</td>\n",
              "      <td>1.081</td>\n",
              "      <td>5.562</td>\n",
              "    </tr>\n",
              "    <tr>\n",
              "      <th>83</th>\n",
              "      <td>Utilidade Públ / Energ Elétrica</td>\n",
              "      <td>TAEE11</td>\n",
              "      <td>TAESA</td>\n",
              "      <td>UNT     N2</td>\n",
              "      <td>218568274</td>\n",
              "      <td>0.360</td>\n",
              "      <td>5.562</td>\n",
              "    </tr>\n",
              "  </tbody>\n",
              "</table>\n",
              "<p>84 rows × 7 columns</p>\n",
              "</div>"
            ],
            "text/plain": [
              "                              Setor  Código  ... Part. (%) Part. (%)Acum.\n",
              "0        Bens Indls / Máqs e Equips   WEGE3  ...     2.267          2.267\n",
              "1       Bens Indls / Mat Transporte   EMBR3  ...     0.590          0.590\n",
              "2             Bens Indls/Transporte   AZUL4  ...     0.594          2.656\n",
              "3             Bens Indls/Transporte   CCRO3  ...     0.652          2.656\n",
              "4             Bens Indls/Transporte   ECOR3  ...     0.164          2.656\n",
              "..                              ...     ...  ...       ...            ...\n",
              "79  Utilidade Públ / Energ Elétrica  ENGI11  ...     0.498          5.562\n",
              "80  Utilidade Públ / Energ Elétrica   ENEV3  ...     0.952          5.562\n",
              "81  Utilidade Públ / Energ Elétrica   EGIE3  ...     0.440          5.562\n",
              "82  Utilidade Públ / Energ Elétrica   EQTL3  ...     1.081          5.562\n",
              "83  Utilidade Públ / Energ Elétrica  TAEE11  ...     0.360          5.562\n",
              "\n",
              "[84 rows x 7 columns]"
            ]
          },
          "metadata": {
            "tags": []
          },
          "execution_count": 9
        }
      ]
    },
    {
      "cell_type": "code",
      "metadata": {
        "id": "siWQKHsNG2wJ"
      },
      "source": [
        "ifix = busca_carteira_teorica('ifix', 3)"
      ],
      "execution_count": null,
      "outputs": []
    },
    {
      "cell_type": "code",
      "metadata": {
        "colab": {
          "base_uri": "https://localhost:8080/",
          "height": 623
        },
        "id": "vRaREAMeG2yo",
        "outputId": "789cc8c6-83b8-47ef-ce50-7abf31b4c908"
      },
      "source": [
        "DataTable(ifix)"
      ],
      "execution_count": null,
      "outputs": [
        {
          "output_type": "execute_result",
          "data": {
            "application/vnd.google.colaboratory.module+javascript": "\n      import \"https://ssl.gstatic.com/colaboratory/data_table/a6224c040fa35dcf/data_table.js\";\n\n      window.createDataTable({\n        data: [[{\n            'v': 0,\n            'f': \"0\",\n        },\n\"Financ e Outros / Fundos\",\n\"ABCP11\",\n\"FII ABC IMOB\",\n\"CI  ER\",\n{\n            'v': 12203833,\n            'f': \"12203833\",\n        },\n{\n            'v': 0.91,\n            'f': \"0.91\",\n        },\n{\n            'v': 100.0,\n            'f': \"100.0\",\n        }],\n [{\n            'v': 1,\n            'f': \"1\",\n        },\n\"Financ e Outros / Fundos\",\n\"BPFF11\",\n\"FII ABSOLUTO\",\n\"CI  ER\",\n{\n            'v': 4492326,\n            'f': \"4492326\",\n        },\n{\n            'v': 0.358,\n            'f': \"0.358\",\n        },\n{\n            'v': 100.0,\n            'f': \"100.0\",\n        }],\n [{\n            'v': 2,\n            'f': \"2\",\n        },\n\"Financ e Outros / Fundos\",\n\"ALZR11\",\n\"FII ALIANZA\",\n\"CI\",\n{\n            'v': 6479483,\n            'f': \"6479483\",\n        },\n{\n            'v': 0.812,\n            'f': \"0.812\",\n        },\n{\n            'v': 100.0,\n            'f': \"100.0\",\n        }],\n [{\n            'v': 3,\n            'f': \"3\",\n        },\n\"Financ e Outros / Fundos\",\n\"BARI11\",\n\"FII BARIGUI\",\n\"CI  ER\",\n{\n            'v': 4634191,\n            'f': \"4634191\",\n        },\n{\n            'v': 0.501,\n            'f': \"0.501\",\n        },\n{\n            'v': 100.0,\n            'f': \"100.0\",\n        }],\n [{\n            'v': 4,\n            'f': \"4\",\n        },\n\"Financ e Outros / Fundos\",\n\"BBPO11\",\n\"FII BB PRGII\",\n\"CI  ER\",\n{\n            'v': 15919690,\n            'f': \"15919690\",\n        },\n{\n            'v': 1.9,\n            'f': \"1.9\",\n        },\n{\n            'v': 100.0,\n            'f': \"100.0\",\n        }],\n [{\n            'v': 5,\n            'f': \"5\",\n        },\n\"Financ e Outros / Fundos\",\n\"BBFI11B\",\n\"FII BB PROGR\",\n\"CI  ER  MB\",\n{\n            'v': 130000,\n            'f': \"130000\",\n        },\n{\n            'v': 0.319,\n            'f': \"0.319\",\n        },\n{\n            'v': 100.0,\n            'f': \"100.0\",\n        }],\n [{\n            'v': 6,\n            'f': \"6\",\n        },\n\"Financ e Outros / Fundos\",\n\"BCFF11\",\n\"FII BC FFII\",\n\"CI  ER\",\n{\n            'v': 25186378,\n            'f': \"25186378\",\n        },\n{\n            'v': 2.08,\n            'f': \"2.08\",\n        },\n{\n            'v': 100.0,\n            'f': \"100.0\",\n        }],\n [{\n            'v': 7,\n            'f': \"7\",\n        },\n\"Financ e Outros / Fundos\",\n\"BRCR11\",\n\"FII BC FUND\",\n\"CI  ER\",\n{\n            'v': 26638202,\n            'f': \"26638202\",\n        },\n{\n            'v': 2.222,\n            'f': \"2.222\",\n        },\n{\n            'v': 100.0,\n            'f': \"100.0\",\n        }],\n [{\n            'v': 8,\n            'f': \"8\",\n        },\n\"Financ e Outros / Fundos\",\n\"BCIA11\",\n\"FII BCIA\",\n\"CI  ER\",\n{\n            'v': 3719038,\n            'f': \"3719038\",\n        },\n{\n            'v': 0.355,\n            'f': \"0.355\",\n        },\n{\n            'v': 100.0,\n            'f': \"100.0\",\n        }],\n [{\n            'v': 9,\n            'f': \"9\",\n        },\n\"Financ e Outros / Fundos\",\n\"BCRI11\",\n\"FII BEES CRI\",\n\"CI  ER\",\n{\n            'v': 6300000,\n            'f': \"6300000\",\n        },\n{\n            'v': 0.726,\n            'f': \"0.726\",\n        },\n{\n            'v': 100.0,\n            'f': \"100.0\",\n        }],\n [{\n            'v': 10,\n            'f': \"10\",\n        },\n\"Financ e Outros / Fundos\",\n\"BRCO11\",\n\"FII BRESCO\",\n\"CI  ER\",\n{\n            'v': 14778781,\n            'f': \"14778781\",\n        },\n{\n            'v': 1.62,\n            'f': \"1.62\",\n        },\n{\n            'v': 100.0,\n            'f': \"100.0\",\n        }],\n [{\n            'v': 11,\n            'f': \"11\",\n        },\n\"Financ e Outros / Fundos\",\n\"BZLI11\",\n\"FII BRREALTY\",\n\"CI\",\n{\n            'v': 38004865,\n            'f': \"38004865\",\n        },\n{\n            'v': 0.556,\n            'f': \"0.556\",\n        },\n{\n            'v': 100.0,\n            'f': \"100.0\",\n        }],\n [{\n            'v': 12,\n            'f': \"12\",\n        },\n\"Financ e Outros / Fundos\",\n\"BTCR11\",\n\"FII BTG CRI\",\n\"CI  ER\",\n{\n            'v': 4810097,\n            'f': \"4810097\",\n        },\n{\n            'v': 0.469,\n            'f': \"0.469\",\n        },\n{\n            'v': 100.0,\n            'f': \"100.0\",\n        }],\n [{\n            'v': 13,\n            'f': \"13\",\n        },\n\"Financ e Outros / Fundos\",\n\"BTLG11\",\n\"FII BTLG\",\n\"CI\",\n{\n            'v': 14854883,\n            'f': \"14854883\",\n        },\n{\n            'v': 1.7209999999999999,\n            'f': \"1.7209999999999999\",\n        },\n{\n            'v': 100.0,\n            'f': \"100.0\",\n        }],\n [{\n            'v': 14,\n            'f': \"14\",\n        },\n\"Financ e Outros / Fundos\",\n\"CPFF11\",\n\"FII CAP REIT\",\n\"CI  ER\",\n{\n            'v': 3973771,\n            'f': \"3973771\",\n        },\n{\n            'v': 0.335,\n            'f': \"0.335\",\n        },\n{\n            'v': 100.0,\n            'f': \"100.0\",\n        }],\n [{\n            'v': 15,\n            'f': \"15\",\n        },\n\"Financ e Outros / Fundos\",\n\"CPTS11\",\n\"FII CAPI SEC\",\n\"CI\",\n{\n            'v': 24687225,\n            'f': \"24687225\",\n        },\n{\n            'v': 2.605,\n            'f': \"2.605\",\n        },\n{\n            'v': 100.0,\n            'f': \"100.0\",\n        }],\n [{\n            'v': 16,\n            'f': \"16\",\n        },\n\"Financ e Outros / Fundos\",\n\"HGCR11\",\n\"FII CSHG CRI\",\n\"CI  ER\",\n{\n            'v': 12372450,\n            'f': \"12372450\",\n        },\n{\n            'v': 1.334,\n            'f': \"1.334\",\n        },\n{\n            'v': 100.0,\n            'f': \"100.0\",\n        }],\n [{\n            'v': 17,\n            'f': \"17\",\n        },\n\"Financ e Outros / Fundos\",\n\"HGFF11\",\n\"FII CSHG FOF\",\n\"CI  ER\",\n{\n            'v': 2863597,\n            'f': \"2863597\",\n        },\n{\n            'v': 0.24,\n            'f': \"0.24\",\n        },\n{\n            'v': 100.0,\n            'f': \"100.0\",\n        }],\n [{\n            'v': 18,\n            'f': \"18\",\n        },\n\"Financ e Outros / Fundos\",\n\"HGLG11\",\n\"FII CSHG LOG\",\n\"CI  ER\",\n{\n            'v': 18436967,\n            'f': \"18436967\",\n        },\n{\n            'v': 3.283,\n            'f': \"3.283\",\n        },\n{\n            'v': 100.0,\n            'f': \"100.0\",\n        }],\n [{\n            'v': 19,\n            'f': \"19\",\n        },\n\"Financ e Outros / Fundos\",\n\"HGRU11\",\n\"FII CSHG URB\",\n\"CI  ER\",\n{\n            'v': 18406458,\n            'f': \"18406458\",\n        },\n{\n            'v': 2.254,\n            'f': \"2.254\",\n        },\n{\n            'v': 100.0,\n            'f': \"100.0\",\n        }],\n [{\n            'v': 20,\n            'f': \"20\",\n        },\n\"Financ e Outros / Fundos\",\n\"HGPO11\",\n\"FII CSHGPRIM\",\n\"CI  ER\",\n{\n            'v': 1753057,\n            'f': \"1753057\",\n        },\n{\n            'v': 0.39799999999999996,\n            'f': \"0.39799999999999996\",\n        },\n{\n            'v': 100.0,\n            'f': \"100.0\",\n        }],\n [{\n            'v': 21,\n            'f': \"21\",\n        },\n\"Financ e Outros / Fundos\",\n\"DEVA11\",\n\"FII DEVANT\",\n\"CI  ER\",\n{\n            'v': 10187196,\n            'f': \"10187196\",\n        },\n{\n            'v': 1.109,\n            'f': \"1.109\",\n        },\n{\n            'v': 100.0,\n            'f': \"100.0\",\n        }],\n [{\n            'v': 22,\n            'f': \"22\",\n        },\n\"Financ e Outros / Fundos\",\n\"VRTA11\",\n\"FII FATOR VE\",\n\"CI  ER\",\n{\n            'v': 10000000,\n            'f': \"10000000\",\n        },\n{\n            'v': 1.119,\n            'f': \"1.119\",\n        },\n{\n            'v': 100.0,\n            'f': \"100.0\",\n        }],\n [{\n            'v': 23,\n            'f': \"23\",\n        },\n\"Financ e Outros / Fundos\",\n\"GTWR11\",\n\"FII G TOWERS\",\n\"CI  ER\",\n{\n            'v': 12000000,\n            'f': \"12000000\",\n        },\n{\n            'v': 1.232,\n            'f': \"1.232\",\n        },\n{\n            'v': 100.0,\n            'f': \"100.0\",\n        }],\n [{\n            'v': 24,\n            'f': \"24\",\n        },\n\"Financ e Outros / Fundos\",\n\"FIGS11\",\n\"FII GEN SHOP\",\n\"CI  ER\",\n{\n            'v': 2850000,\n            'f': \"2850000\",\n        },\n{\n            'v': 0.185,\n            'f': \"0.185\",\n        },\n{\n            'v': 100.0,\n            'f': \"100.0\",\n        }],\n [{\n            'v': 25,\n            'f': \"25\",\n        },\n\"Financ e Outros / Fundos\",\n\"GGRC11\",\n\"FII GGRCOVEP\",\n\"CI  ER\",\n{\n            'v': 7758429,\n            'f': \"7758429\",\n        },\n{\n            'v': 0.966,\n            'f': \"0.966\",\n        },\n{\n            'v': 100.0,\n            'f': \"100.0\",\n        }],\n [{\n            'v': 26,\n            'f': \"26\",\n        },\n\"Financ e Outros / Fundos\",\n\"HABT11\",\n\"FII HABIT II\",\n\"CI  ER\",\n{\n            'v': 5412107,\n            'f': \"5412107\",\n        },\n{\n            'v': 0.6990000000000001,\n            'f': \"0.6990000000000001\",\n        },\n{\n            'v': 100.0,\n            'f': \"100.0\",\n        }],\n [{\n            'v': 27,\n            'f': \"27\",\n        },\n\"Financ e Outros / Fundos\",\n\"HCTR11\",\n\"FII HECTARE\",\n\"CI  ER\",\n{\n            'v': 13836247,\n            'f': \"13836247\",\n        },\n{\n            'v': 1.95,\n            'f': \"1.95\",\n        },\n{\n            'v': 100.0,\n            'f': \"100.0\",\n        }],\n [{\n            'v': 28,\n            'f': \"28\",\n        },\n\"Financ e Outros / Fundos\",\n\"HGBS11\",\n\"FII HEDGEBS\",\n\"CI  ER\",\n{\n            'v': 10000000,\n            'f': \"10000000\",\n        },\n{\n            'v': 2.0780000000000003,\n            'f': \"2.0780000000000003\",\n        },\n{\n            'v': 100.0,\n            'f': \"100.0\",\n        }],\n [{\n            'v': 29,\n            'f': \"29\",\n        },\n\"Financ e Outros / Fundos\",\n\"HGRE11\",\n\"FII HG REAL\",\n\"CI  ER\",\n{\n            'v': 11817767,\n            'f': \"11817767\",\n        },\n{\n            'v': 1.645,\n            'f': \"1.645\",\n        },\n{\n            'v': 100.0,\n            'f': \"100.0\",\n        }],\n [{\n            'v': 30,\n            'f': \"30\",\n        },\n\"Financ e Outros / Fundos\",\n\"HTMX11\",\n\"FII HOTEL MX\",\n\"CI\",\n{\n            'v': 1257022,\n            'f': \"1257022\",\n        },\n{\n            'v': 0.132,\n            'f': \"0.132\",\n        },\n{\n            'v': 100.0,\n            'f': \"100.0\",\n        }],\n [{\n            'v': 31,\n            'f': \"31\",\n        },\n\"Financ e Outros / Fundos\",\n\"HSLG11\",\n\"FII HSI LOG\",\n\"CI  ER\",\n{\n            'v': 12660067,\n            'f': \"12660067\",\n        },\n{\n            'v': 1.337,\n            'f': \"1.337\",\n        },\n{\n            'v': 100.0,\n            'f': \"100.0\",\n        }],\n [{\n            'v': 32,\n            'f': \"32\",\n        },\n\"Financ e Outros / Fundos\",\n\"HSML11\",\n\"FII HSI MALL\",\n\"CI  ER\",\n{\n            'v': 15780613,\n            'f': \"15780613\",\n        },\n{\n            'v': 1.4069999999999998,\n            'f': \"1.4069999999999998\",\n        },\n{\n            'v': 100.0,\n            'f': \"100.0\",\n        }],\n [{\n            'v': 33,\n            'f': \"33\",\n        },\n\"Financ e Outros / Fundos\",\n\"HFOF11\",\n\"FII HTOPFOF3\",\n\"CI  ER\",\n{\n            'v': 22975000,\n            'f': \"22975000\",\n        },\n{\n            'v': 2.251,\n            'f': \"2.251\",\n        },\n{\n            'v': 100.0,\n            'f': \"100.0\",\n        }],\n [{\n            'v': 34,\n            'f': \"34\",\n        },\n\"Financ e Outros / Fundos\",\n\"FIIB11\",\n\"FII INDL BR\",\n\"CI  ER\",\n{\n            'v': 685000,\n            'f': \"685000\",\n        },\n{\n            'v': 0.33799999999999997,\n            'f': \"0.33799999999999997\",\n        },\n{\n            'v': 100.0,\n            'f': \"100.0\",\n        }],\n [{\n            'v': 35,\n            'f': \"35\",\n        },\n\"Financ e Outros / Fundos\",\n\"IRDM11\",\n\"FII IRIDIUM\",\n\"CI\",\n{\n            'v': 21000000,\n            'f': \"21000000\",\n        },\n{\n            'v': 2.813,\n            'f': \"2.813\",\n        },\n{\n            'v': 100.0,\n            'f': \"100.0\",\n        }],\n [{\n            'v': 36,\n            'f': \"36\",\n        },\n\"Financ e Outros / Fundos\",\n\"JSRE11\",\n\"FII JS REAL\",\n\"CI  ER\",\n{\n            'v': 20767328,\n            'f': \"20767328\",\n        },\n{\n            'v': 1.901,\n            'f': \"1.901\",\n        },\n{\n            'v': 100.0,\n            'f': \"100.0\",\n        }],\n [{\n            'v': 37,\n            'f': \"37\",\n        },\n\"Financ e Outros / Fundos\",\n\"KNRI11\",\n\"FII KINEA\",\n\"CI  ER\",\n{\n            'v': 24157121,\n            'f': \"24157121\",\n        },\n{\n            'v': 3.515,\n            'f': \"3.515\",\n        },\n{\n            'v': 100.0,\n            'f': \"100.0\",\n        }],\n [{\n            'v': 38,\n            'f': \"38\",\n        },\n\"Financ e Outros / Fundos\",\n\"KNHY11\",\n\"FII KINEA HY\",\n\"CI  ER\",\n{\n            'v': 10690843,\n            'f': \"10690843\",\n        },\n{\n            'v': 1.232,\n            'f': \"1.232\",\n        },\n{\n            'v': 100.0,\n            'f': \"100.0\",\n        }],\n [{\n            'v': 39,\n            'f': \"39\",\n        },\n\"Financ e Outros / Fundos\",\n\"KNIP11\",\n\"FII KINEA IP\",\n\"CI  ER\",\n{\n            'v': 47134764,\n            'f': \"47134764\",\n        },\n{\n            'v': 5.26,\n            'f': \"5.26\",\n        },\n{\n            'v': 100.0,\n            'f': \"100.0\",\n        }],\n [{\n            'v': 40,\n            'f': \"40\",\n        },\n\"Financ e Outros / Fundos\",\n\"KNCR11\",\n\"FII KINEA RI\",\n\"CI  ER\",\n{\n            'v': 39097087,\n            'f': \"39097087\",\n        },\n{\n            'v': 3.555,\n            'f': \"3.555\",\n        },\n{\n            'v': 100.0,\n            'f': \"100.0\",\n        }],\n [{\n            'v': 41,\n            'f': \"41\",\n        },\n\"Financ e Outros / Fundos\",\n\"KNSC11\",\n\"FII KINEA SC\",\n\"CI  ER\",\n{\n            'v': 5797109,\n            'f': \"5797109\",\n        },\n{\n            'v': 0.608,\n            'f': \"0.608\",\n        },\n{\n            'v': 100.0,\n            'f': \"100.0\",\n        }],\n [{\n            'v': 42,\n            'f': \"42\",\n        },\n\"Financ e Outros / Fundos\",\n\"KFOF11\",\n\"FII KINEAFOF\",\n\"CI  ER\",\n{\n            'v': 4533315,\n            'f': \"4533315\",\n        },\n{\n            'v': 0.409,\n            'f': \"0.409\",\n        },\n{\n            'v': 100.0,\n            'f': \"100.0\",\n        }],\n [{\n            'v': 43,\n            'f': \"43\",\n        },\n\"Financ e Outros / Fundos\",\n\"MALL11\",\n\"FII MALLS BP\",\n\"CI  ER\",\n{\n            'v': 7560351,\n            'f': \"7560351\",\n        },\n{\n            'v': 0.748,\n            'f': \"0.748\",\n        },\n{\n            'v': 100.0,\n            'f': \"100.0\",\n        }],\n [{\n            'v': 44,\n            'f': \"44\",\n        },\n\"Financ e Outros / Fundos\",\n\"MCCI11\",\n\"FII MAUA\",\n\"CI\",\n{\n            'v': 8927401,\n            'f': \"8927401\",\n        },\n{\n            'v': 0.9540000000000001,\n            'f': \"0.9540000000000001\",\n        },\n{\n            'v': 100.0,\n            'f': \"100.0\",\n        }],\n [{\n            'v': 45,\n            'f': \"45\",\n        },\n\"Financ e Outros / Fundos\",\n\"MXRF11\",\n\"FII MAXI REN\",\n\"CI  ER\",\n{\n            'v': 226039663,\n            'f': \"226039663\",\n        },\n{\n            'v': 2.364,\n            'f': \"2.364\",\n        },\n{\n            'v': 100.0,\n            'f': \"100.0\",\n        }],\n [{\n            'v': 46,\n            'f': \"46\",\n        },\n\"Financ e Outros / Fundos\",\n\"MFII11\",\n\"FII MERITO I\",\n\"CI  ER\",\n{\n            'v': 4146900,\n            'f': \"4146900\",\n        },\n{\n            'v': 0.45,\n            'f': \"0.45\",\n        },\n{\n            'v': 100.0,\n            'f': \"100.0\",\n        }],\n [{\n            'v': 47,\n            'f': \"47\",\n        },\n\"Financ e Outros / Fundos\",\n\"MGFF11\",\n\"FII MOGNO\",\n\"CI  ER\",\n{\n            'v': 9050620,\n            'f': \"9050620\",\n        },\n{\n            'v': 0.722,\n            'f': \"0.722\",\n        },\n{\n            'v': 100.0,\n            'f': \"100.0\",\n        }],\n [{\n            'v': 48,\n            'f': \"48\",\n        },\n\"Financ e Outros / Fundos\",\n\"OUJP11\",\n\"FII OURI JPP\",\n\"CI  ER\",\n{\n            'v': 3252384,\n            'f': \"3252384\",\n        },\n{\n            'v': 0.324,\n            'f': \"0.324\",\n        },\n{\n            'v': 100.0,\n            'f': \"100.0\",\n        }],\n [{\n            'v': 49,\n            'f': \"49\",\n        },\n\"Financ e Outros / Fundos\",\n\"OULG11\",\n\"FII OURILOG\",\n\"CI\",\n{\n            'v': 2481284,\n            'f': \"2481284\",\n        },\n{\n            'v': 0.17600000000000002,\n            'f': \"0.17600000000000002\",\n        },\n{\n            'v': 100.0,\n            'f': \"100.0\",\n        }],\n [{\n            'v': 50,\n            'f': \"50\",\n        },\n\"Financ e Outros / Fundos\",\n\"PATL11\",\n\"FII PATR LOG\",\n\"CI  ER\",\n{\n            'v': 4991535,\n            'f': \"4991535\",\n        },\n{\n            'v': 0.428,\n            'f': \"0.428\",\n        },\n{\n            'v': 100.0,\n            'f': \"100.0\",\n        }],\n [{\n            'v': 51,\n            'f': \"51\",\n        },\n\"Financ e Outros / Fundos\",\n\"PATC11\",\n\"FII PATRIA\",\n\"CI  ER\",\n{\n            'v': 3477434,\n            'f': \"3477434\",\n        },\n{\n            'v': 0.244,\n            'f': \"0.244\",\n        },\n{\n            'v': 100.0,\n            'f': \"100.0\",\n        }],\n [{\n            'v': 52,\n            'f': \"52\",\n        },\n\"Financ e Outros / Fundos\",\n\"PLCR11\",\n\"FII PLURAL R\",\n\"CI  ER\",\n{\n            'v': 2109169,\n            'f': \"2109169\",\n        },\n{\n            'v': 0.205,\n            'f': \"0.205\",\n        },\n{\n            'v': 100.0,\n            'f': \"100.0\",\n        }],\n [{\n            'v': 53,\n            'f': \"53\",\n        },\n\"Financ e Outros / Fundos\",\n\"PORD11\",\n\"FII POLO CRI\",\n\"CI  ER\",\n{\n            'v': 3728375,\n            'f': \"3728375\",\n        },\n{\n            'v': 0.384,\n            'f': \"0.384\",\n        },\n{\n            'v': 100.0,\n            'f': \"100.0\",\n        }],\n [{\n            'v': 54,\n            'f': \"54\",\n        },\n\"Financ e Outros / Fundos\",\n\"QAGR11\",\n\"FII QUASAR A\",\n\"CI  ER\",\n{\n            'v': 5040000,\n            'f': \"5040000\",\n        },\n{\n            'v': 0.271,\n            'f': \"0.271\",\n        },\n{\n            'v': 100.0,\n            'f': \"100.0\",\n        }],\n [{\n            'v': 55,\n            'f': \"55\",\n        },\n\"Financ e Outros / Fundos\",\n\"RFOF11\",\n\"FII RB CFOF\",\n\"CI  ER\",\n{\n            'v': 1078164,\n            'f': \"1078164\",\n        },\n{\n            'v': 0.092,\n            'f': \"0.092\",\n        },\n{\n            'v': 100.0,\n            'f': \"100.0\",\n        }],\n [{\n            'v': 56,\n            'f': \"56\",\n        },\n\"Financ e Outros / Fundos\",\n\"RBRD11\",\n\"FII RB II\",\n\"CI  ER\",\n{\n            'v': 1851786,\n            'f': \"1851786\",\n        },\n{\n            'v': 0.113,\n            'f': \"0.113\",\n        },\n{\n            'v': 100.0,\n            'f': \"100.0\",\n        }],\n [{\n            'v': 57,\n            'f': \"57\",\n        },\n\"Financ e Outros / Fundos\",\n\"RBRP11\",\n\"FII RBR PROP\",\n\"CI  ER\",\n{\n            'v': 12179186,\n            'f': \"12179186\",\n        },\n{\n            'v': 1.014,\n            'f': \"1.014\",\n        },\n{\n            'v': 100.0,\n            'f': \"100.0\",\n        }],\n [{\n            'v': 58,\n            'f': \"58\",\n        },\n\"Financ e Outros / Fundos\",\n\"RBRF11\",\n\"FII RBRALPHA\",\n\"CI\",\n{\n            'v': 13680770,\n            'f': \"13680770\",\n        },\n{\n            'v': 1.143,\n            'f': \"1.143\",\n        },\n{\n            'v': 100.0,\n            'f': \"100.0\",\n        }],\n [{\n            'v': 59,\n            'f': \"59\",\n        },\n\"Financ e Outros / Fundos\",\n\"RBRR11\",\n\"FII RBRHGRAD\",\n\"CI\",\n{\n            'v': 10161437,\n            'f': \"10161437\",\n        },\n{\n            'v': 1.0590000000000002,\n            'f': \"1.0590000000000002\",\n        },\n{\n            'v': 100.0,\n            'f': \"100.0\",\n        }],\n [{\n            'v': 60,\n            'f': \"60\",\n        },\n\"Financ e Outros / Fundos\",\n\"RECR11\",\n\"FII REC RECE\",\n\"CI  ER\",\n{\n            'v': 18522070,\n            'f': \"18522070\",\n        },\n{\n            'v': 1.972,\n            'f': \"1.972\",\n        },\n{\n            'v': 100.0,\n            'f': \"100.0\",\n        }],\n [{\n            'v': 61,\n            'f': \"61\",\n        },\n\"Financ e Outros / Fundos\",\n\"RECT11\",\n\"FII REC REND\",\n\"CI  ER\",\n{\n            'v': 8179347,\n            'f': \"8179347\",\n        },\n{\n            'v': 0.6659999999999999,\n            'f': \"0.6659999999999999\",\n        },\n{\n            'v': 100.0,\n            'f': \"100.0\",\n        }],\n [{\n            'v': 62,\n            'f': \"62\",\n        },\n\"Financ e Outros / Fundos\",\n\"RBED11\",\n\"FII RIOB ED\",\n\"CI  ER\",\n{\n            'v': 2021621,\n            'f': \"2021621\",\n        },\n{\n            'v': 0.297,\n            'f': \"0.297\",\n        },\n{\n            'v': 100.0,\n            'f': \"100.0\",\n        }],\n [{\n            'v': 63,\n            'f': \"63\",\n        },\n\"Financ e Outros / Fundos\",\n\"RBFF11\",\n\"FII RIOB FF\",\n\"CI  ER\",\n{\n            'v': 3749215,\n            'f': \"3749215\",\n        },\n{\n            'v': 0.251,\n            'f': \"0.251\",\n        },\n{\n            'v': 100.0,\n            'f': \"100.0\",\n        }],\n [{\n            'v': 64,\n            'f': \"64\",\n        },\n\"Financ e Outros / Fundos\",\n\"RCRB11\",\n\"FII RIOB RC\",\n\"CI  ER\",\n{\n            'v': 3690695,\n            'f': \"3690695\",\n        },\n{\n            'v': 0.556,\n            'f': \"0.556\",\n        },\n{\n            'v': 100.0,\n            'f': \"100.0\",\n        }],\n [{\n            'v': 65,\n            'f': \"65\",\n        },\n\"Financ e Outros / Fundos\",\n\"RBVA11\",\n\"FII RIOB VA\",\n\"CI  ER\",\n{\n            'v': 11588199,\n            'f': \"11588199\",\n        },\n{\n            'v': 1.365,\n            'f': \"1.365\",\n        },\n{\n            'v': 100.0,\n            'f': \"100.0\",\n        }],\n [{\n            'v': 66,\n            'f': \"66\",\n        },\n\"Financ e Outros / Fundos\",\n\"RNGO11\",\n\"FII RIONEGRO\",\n\"CI  ER\",\n{\n            'v': 2676000,\n            'f': \"2676000\",\n        },\n{\n            'v': 0.175,\n            'f': \"0.175\",\n        },\n{\n            'v': 100.0,\n            'f': \"100.0\",\n        }],\n [{\n            'v': 67,\n            'f': \"67\",\n        },\n\"Financ e Outros / Fundos\",\n\"RZTR11\",\n\"FII RIZA TX\",\n\"CI  ER\",\n{\n            'v': 10025534,\n            'f': \"10025534\",\n        },\n{\n            'v': 0.995,\n            'f': \"0.995\",\n        },\n{\n            'v': 100.0,\n            'f': \"100.0\",\n        }],\n [{\n            'v': 68,\n            'f': \"68\",\n        },\n\"Financ e Outros / Fundos\",\n\"FLMA11\",\n\"FII S F LIMA\",\n\"CI  ER\",\n{\n            'v': 1380670,\n            'f': \"1380670\",\n        },\n{\n            'v': 0.19899999999999998,\n            'f': \"0.19899999999999998\",\n        },\n{\n            'v': 100.0,\n            'f': \"100.0\",\n        }],\n [{\n            'v': 69,\n            'f': \"69\",\n        },\n\"Financ e Outros / Fundos\",\n\"SADI11\",\n\"FII SANT PAP\",\n\"CI  ER\",\n{\n            'v': 3180207,\n            'f': \"3180207\",\n        },\n{\n            'v': 0.28300000000000003,\n            'f': \"0.28300000000000003\",\n        },\n{\n            'v': 100.0,\n            'f': \"100.0\",\n        }],\n [{\n            'v': 70,\n            'f': \"70\",\n        },\n\"Financ e Outros / Fundos\",\n\"SARE11\",\n\"FII SANT REN\",\n\"CI  ER\",\n{\n            'v': 5354535,\n            'f': \"5354535\",\n        },\n{\n            'v': 0.5329999999999999,\n            'f': \"0.5329999999999999\",\n        },\n{\n            'v': 100.0,\n            'f': \"100.0\",\n        }],\n [{\n            'v': 71,\n            'f': \"71\",\n        },\n\"Financ e Outros / Fundos\",\n\"SDIL11\",\n\"FII SDI LOG\",\n\"CI  ER\",\n{\n            'v': 6395050,\n            'f': \"6395050\",\n        },\n{\n            'v': 0.602,\n            'f': \"0.602\",\n        },\n{\n            'v': 100.0,\n            'f': \"100.0\",\n        }],\n [{\n            'v': 72,\n            'f': \"72\",\n        },\n\"Financ e Outros / Fundos\",\n\"SPTW11\",\n\"FII SP DOWNT\",\n\"CI  ER\",\n{\n            'v': 1798000,\n            'f': \"1798000\",\n        },\n{\n            'v': 0.105,\n            'f': \"0.105\",\n        },\n{\n            'v': 100.0,\n            'f': \"100.0\",\n        }],\n [{\n            'v': 73,\n            'f': \"73\",\n        },\n\"Financ e Outros / Fundos\",\n\"TEPP11\",\n\"FII TEL PROP\",\n\"CI  ER\",\n{\n            'v': 4221967,\n            'f': \"4221967\",\n        },\n{\n            'v': 0.33799999999999997,\n            'f': \"0.33799999999999997\",\n        },\n{\n            'v': 100.0,\n            'f': \"100.0\",\n        }],\n [{\n            'v': 74,\n            'f': \"74\",\n        },\n\"Financ e Outros / Fundos\",\n\"TGAR11\",\n\"FII TG ATIVO\",\n\"CI  ER\",\n{\n            'v': 10621774,\n            'f': \"10621774\",\n        },\n{\n            'v': 1.446,\n            'f': \"1.446\",\n        },\n{\n            'v': 100.0,\n            'f': \"100.0\",\n        }],\n [{\n            'v': 75,\n            'f': \"75\",\n        },\n\"Financ e Outros / Fundos\",\n\"TORD11\",\n\"FII TORDE EI\",\n\"CI  ER\",\n{\n            'v': 35051354,\n            'f': \"35051354\",\n        },\n{\n            'v': 0.369,\n            'f': \"0.369\",\n        },\n{\n            'v': 100.0,\n            'f': \"100.0\",\n        }],\n [{\n            'v': 76,\n            'f': \"76\",\n        },\n\"Financ e Outros / Fundos\",\n\"TRXF11\",\n\"FII TRX REAL\",\n\"CI  ER\",\n{\n            'v': 5641522,\n            'f': \"5641522\",\n        },\n{\n            'v': 0.596,\n            'f': \"0.596\",\n        },\n{\n            'v': 100.0,\n            'f': \"100.0\",\n        }],\n [{\n            'v': 77,\n            'f': \"77\",\n        },\n\"Financ e Outros / Fundos\",\n\"URPR11\",\n\"FII URCA REN\",\n\"CI  ER\",\n{\n            'v': 1660428,\n            'f': \"1660428\",\n        },\n{\n            'v': 0.225,\n            'f': \"0.225\",\n        },\n{\n            'v': 100.0,\n            'f': \"100.0\",\n        }],\n [{\n            'v': 78,\n            'f': \"78\",\n        },\n\"Financ e Outros / Fundos\",\n\"VGIP11\",\n\"FII VALORAIP\",\n\"CI\",\n{\n            'v': 7524790,\n            'f': \"7524790\",\n        },\n{\n            'v': 0.7979999999999999,\n            'f': \"0.7979999999999999\",\n        },\n{\n            'v': 100.0,\n            'f': \"100.0\",\n        }],\n [{\n            'v': 79,\n            'f': \"79\",\n        },\n\"Financ e Outros / Fundos\",\n\"VGIR11\",\n\"FII VALREIII\",\n\"CI\",\n{\n            'v': 4506414,\n            'f': \"4506414\",\n        },\n{\n            'v': 0.418,\n            'f': \"0.418\",\n        },\n{\n            'v': 100.0,\n            'f': \"100.0\",\n        }],\n [{\n            'v': 80,\n            'f': \"80\",\n        },\n\"Financ e Outros / Fundos\",\n\"CVBI11\",\n\"FII VBI CRI\",\n\"CI  ER\",\n{\n            'v': 9256925,\n            'f': \"9256925\",\n        },\n{\n            'v': 1.005,\n            'f': \"1.005\",\n        },\n{\n            'v': 100.0,\n            'f': \"100.0\",\n        }],\n [{\n            'v': 81,\n            'f': \"81\",\n        },\n\"Financ e Outros / Fundos\",\n\"LVBI11\",\n\"FII VBI LOG\",\n\"CI  ER\",\n{\n            'v': 11775177,\n            'f': \"11775177\",\n        },\n{\n            'v': 1.28,\n            'f': \"1.28\",\n        },\n{\n            'v': 100.0,\n            'f': \"100.0\",\n        }],\n [{\n            'v': 82,\n            'f': \"82\",\n        },\n\"Financ e Outros / Fundos\",\n\"PVBI11\",\n\"FII VBI PRI\",\n\"CI  ER\",\n{\n            'v': 9720000,\n            'f': \"9720000\",\n        },\n{\n            'v': 0.9690000000000001,\n            'f': \"0.9690000000000001\",\n        },\n{\n            'v': 100.0,\n            'f': \"100.0\",\n        }],\n [{\n            'v': 83,\n            'f': \"83\",\n        },\n\"Financ e Outros / Fundos\",\n\"RVBI11\",\n\"FII VBI REIT\",\n\"CI  ER\",\n{\n            'v': 1440000,\n            'f': \"1440000\",\n        },\n{\n            'v': 0.134,\n            'f': \"0.134\",\n        },\n{\n            'v': 100.0,\n            'f': \"100.0\",\n        }],\n [{\n            'v': 84,\n            'f': \"84\",\n        },\n\"Financ e Outros / Fundos\",\n\"VCJR11\",\n\"FII VECTIS\",\n\"CI  ER\",\n{\n            'v': 11603880,\n            'f': \"11603880\",\n        },\n{\n            'v': 1.148,\n            'f': \"1.148\",\n        },\n{\n            'v': 100.0,\n            'f': \"100.0\",\n        }],\n [{\n            'v': 85,\n            'f': \"85\",\n        },\n\"Financ e Outros / Fundos\",\n\"VILG11\",\n\"FII VINCI LG\",\n\"CI  ER\",\n{\n            'v': 14997396,\n            'f': \"14997396\",\n        },\n{\n            'v': 1.775,\n            'f': \"1.775\",\n        },\n{\n            'v': 100.0,\n            'f': \"100.0\",\n        }],\n [{\n            'v': 86,\n            'f': \"86\",\n        },\n\"Financ e Outros / Fundos\",\n\"VINO11\",\n\"FII VINCI OF\",\n\"CI  ER\",\n{\n            'v': 12673868,\n            'f': \"12673868\",\n        },\n{\n            'v': 0.7809999999999999,\n            'f': \"0.7809999999999999\",\n        },\n{\n            'v': 100.0,\n            'f': \"100.0\",\n        }],\n [{\n            'v': 87,\n            'f': \"87\",\n        },\n\"Financ e Outros / Fundos\",\n\"VISC11\",\n\"FII VINCI SC\",\n\"CI  ER\",\n{\n            'v': 14270995,\n            'f': \"14270995\",\n        },\n{\n            'v': 1.584,\n            'f': \"1.584\",\n        },\n{\n            'v': 100.0,\n            'f': \"100.0\",\n        }],\n [{\n            'v': 88,\n            'f': \"88\",\n        },\n\"Financ e Outros / Fundos\",\n\"VTLT11\",\n\"FII VOT LOG\",\n\"CI  ER\",\n{\n            'v': 2115000,\n            'f': \"2115000\",\n        },\n{\n            'v': 0.225,\n            'f': \"0.225\",\n        },\n{\n            'v': 100.0,\n            'f': \"100.0\",\n        }],\n [{\n            'v': 89,\n            'f': \"89\",\n        },\n\"Financ e Outros / Fundos\",\n\"XPCI11\",\n\"FII XP CRED\",\n\"CI  ER\",\n{\n            'v': 6567011,\n            'f': \"6567011\",\n        },\n{\n            'v': 0.687,\n            'f': \"0.687\",\n        },\n{\n            'v': 100.0,\n            'f': \"100.0\",\n        }],\n [{\n            'v': 90,\n            'f': \"90\",\n        },\n\"Financ e Outros / Fundos\",\n\"XPIN11\",\n\"FII XP INDL\",\n\"CI\",\n{\n            'v': 6586568,\n            'f': \"6586568\",\n        },\n{\n            'v': 0.688,\n            'f': \"0.688\",\n        },\n{\n            'v': 100.0,\n            'f': \"100.0\",\n        }],\n [{\n            'v': 91,\n            'f': \"91\",\n        },\n\"Financ e Outros / Fundos\",\n\"XPLG11\",\n\"FII XP LOG\",\n\"CI  ER\",\n{\n            'v': 27101061,\n            'f': \"27101061\",\n        },\n{\n            'v': 3.115,\n            'f': \"3.115\",\n        },\n{\n            'v': 100.0,\n            'f': \"100.0\",\n        }],\n [{\n            'v': 92,\n            'f': \"92\",\n        },\n\"Financ e Outros / Fundos\",\n\"XPCM11\",\n\"FII XP MACAE\",\n\"CI  ER\",\n{\n            'v': 2414570,\n            'f': \"2414570\",\n        },\n{\n            'v': 0.102,\n            'f': \"0.102\",\n        },\n{\n            'v': 100.0,\n            'f': \"100.0\",\n        }],\n [{\n            'v': 93,\n            'f': \"93\",\n        },\n\"Financ e Outros / Fundos\",\n\"XPML11\",\n\"FII XP MALLS\",\n\"CI\",\n{\n            'v': 18207683,\n            'f': \"18207683\",\n        },\n{\n            'v': 1.9680000000000002,\n            'f': \"1.9680000000000002\",\n        },\n{\n            'v': 100.0,\n            'f': \"100.0\",\n        }],\n [{\n            'v': 94,\n            'f': \"94\",\n        },\n\"Financ e Outros / Fundos\",\n\"XPPR11\",\n\"FII XP PROP\",\n\"CI  ER\",\n{\n            'v': 7316171,\n            'f': \"7316171\",\n        },\n{\n            'v': 0.503,\n            'f': \"0.503\",\n        },\n{\n            'v': 100.0,\n            'f': \"100.0\",\n        }],\n [{\n            'v': 95,\n            'f': \"95\",\n        },\n\"Financ e Outros / Fundos\",\n\"XPSF11\",\n\"FII XP SELEC\",\n\"CI  ER\",\n{\n            'v': 4330214,\n            'f': \"4330214\",\n        },\n{\n            'v': 0.41700000000000004,\n            'f': \"0.41700000000000004\",\n        },\n{\n            'v': 100.0,\n            'f': \"100.0\",\n        }]],\n        columns: [[\"number\", \"index\"], [\"string\", \"Setor\"], [\"string\", \"C\\u00f3digo\"], [\"string\", \"A\\u00e7\\u00e3o\"], [\"string\", \"Tipo\"], [\"number\", \"Qtde. Te\\u00f3rica\"], [\"number\", \"Part. (%)\"], [\"number\", \"Part. (%)Acum.\"]],\n        columnOptions: [{\"width\": \"1px\", \"className\": \"index_column\"}],\n        rowsPerPage: 25,\n        helpUrl: \"https://colab.research.google.com/notebooks/data_table.ipynb\",\n        suppressOutputScrolling: true,\n        minimumWidth: undefined,\n      });\n    ",
            "text/plain": [
              "<google.colab.data_table.DataTable object>"
            ],
            "text/html": [
              "<div>\n",
              "<style scoped>\n",
              "    .dataframe tbody tr th:only-of-type {\n",
              "        vertical-align: middle;\n",
              "    }\n",
              "\n",
              "    .dataframe tbody tr th {\n",
              "        vertical-align: top;\n",
              "    }\n",
              "\n",
              "    .dataframe thead th {\n",
              "        text-align: right;\n",
              "    }\n",
              "</style>\n",
              "<table border=\"1\" class=\"dataframe\">\n",
              "  <thead>\n",
              "    <tr style=\"text-align: right;\">\n",
              "      <th></th>\n",
              "      <th>Setor</th>\n",
              "      <th>Código</th>\n",
              "      <th>Ação</th>\n",
              "      <th>Tipo</th>\n",
              "      <th>Qtde. Teórica</th>\n",
              "      <th>Part. (%)</th>\n",
              "      <th>Part. (%)Acum.</th>\n",
              "    </tr>\n",
              "  </thead>\n",
              "  <tbody>\n",
              "    <tr>\n",
              "      <th>0</th>\n",
              "      <td>Financ e Outros / Fundos</td>\n",
              "      <td>ABCP11</td>\n",
              "      <td>FII ABC IMOB</td>\n",
              "      <td>CI  ER</td>\n",
              "      <td>12203833</td>\n",
              "      <td>0.910</td>\n",
              "      <td>100.0</td>\n",
              "    </tr>\n",
              "    <tr>\n",
              "      <th>1</th>\n",
              "      <td>Financ e Outros / Fundos</td>\n",
              "      <td>BPFF11</td>\n",
              "      <td>FII ABSOLUTO</td>\n",
              "      <td>CI  ER</td>\n",
              "      <td>4492326</td>\n",
              "      <td>0.358</td>\n",
              "      <td>100.0</td>\n",
              "    </tr>\n",
              "    <tr>\n",
              "      <th>2</th>\n",
              "      <td>Financ e Outros / Fundos</td>\n",
              "      <td>ALZR11</td>\n",
              "      <td>FII ALIANZA</td>\n",
              "      <td>CI</td>\n",
              "      <td>6479483</td>\n",
              "      <td>0.812</td>\n",
              "      <td>100.0</td>\n",
              "    </tr>\n",
              "    <tr>\n",
              "      <th>3</th>\n",
              "      <td>Financ e Outros / Fundos</td>\n",
              "      <td>BARI11</td>\n",
              "      <td>FII BARIGUI</td>\n",
              "      <td>CI  ER</td>\n",
              "      <td>4634191</td>\n",
              "      <td>0.501</td>\n",
              "      <td>100.0</td>\n",
              "    </tr>\n",
              "    <tr>\n",
              "      <th>4</th>\n",
              "      <td>Financ e Outros / Fundos</td>\n",
              "      <td>BBPO11</td>\n",
              "      <td>FII BB PRGII</td>\n",
              "      <td>CI  ER</td>\n",
              "      <td>15919690</td>\n",
              "      <td>1.900</td>\n",
              "      <td>100.0</td>\n",
              "    </tr>\n",
              "    <tr>\n",
              "      <th>...</th>\n",
              "      <td>...</td>\n",
              "      <td>...</td>\n",
              "      <td>...</td>\n",
              "      <td>...</td>\n",
              "      <td>...</td>\n",
              "      <td>...</td>\n",
              "      <td>...</td>\n",
              "    </tr>\n",
              "    <tr>\n",
              "      <th>91</th>\n",
              "      <td>Financ e Outros / Fundos</td>\n",
              "      <td>XPLG11</td>\n",
              "      <td>FII XP LOG</td>\n",
              "      <td>CI  ER</td>\n",
              "      <td>27101061</td>\n",
              "      <td>3.115</td>\n",
              "      <td>100.0</td>\n",
              "    </tr>\n",
              "    <tr>\n",
              "      <th>92</th>\n",
              "      <td>Financ e Outros / Fundos</td>\n",
              "      <td>XPCM11</td>\n",
              "      <td>FII XP MACAE</td>\n",
              "      <td>CI  ER</td>\n",
              "      <td>2414570</td>\n",
              "      <td>0.102</td>\n",
              "      <td>100.0</td>\n",
              "    </tr>\n",
              "    <tr>\n",
              "      <th>93</th>\n",
              "      <td>Financ e Outros / Fundos</td>\n",
              "      <td>XPML11</td>\n",
              "      <td>FII XP MALLS</td>\n",
              "      <td>CI</td>\n",
              "      <td>18207683</td>\n",
              "      <td>1.968</td>\n",
              "      <td>100.0</td>\n",
              "    </tr>\n",
              "    <tr>\n",
              "      <th>94</th>\n",
              "      <td>Financ e Outros / Fundos</td>\n",
              "      <td>XPPR11</td>\n",
              "      <td>FII XP PROP</td>\n",
              "      <td>CI  ER</td>\n",
              "      <td>7316171</td>\n",
              "      <td>0.503</td>\n",
              "      <td>100.0</td>\n",
              "    </tr>\n",
              "    <tr>\n",
              "      <th>95</th>\n",
              "      <td>Financ e Outros / Fundos</td>\n",
              "      <td>XPSF11</td>\n",
              "      <td>FII XP SELEC</td>\n",
              "      <td>CI  ER</td>\n",
              "      <td>4330214</td>\n",
              "      <td>0.417</td>\n",
              "      <td>100.0</td>\n",
              "    </tr>\n",
              "  </tbody>\n",
              "</table>\n",
              "<p>96 rows × 7 columns</p>\n",
              "</div>"
            ]
          },
          "metadata": {
            "tags": []
          },
          "execution_count": 11
        }
      ]
    }
  ]
}