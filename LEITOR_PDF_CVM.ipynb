{
  "nbformat": 4,
  "nbformat_minor": 0,
  "metadata": {
    "colab": {
      "name": "LEITOR_PDF_CVM.ipynb",
      "provenance": [],
      "authorship_tag": "ABX9TyMz3N3Oaod5N03N1wVbRQsG",
      "include_colab_link": true
    },
    "kernelspec": {
      "name": "python3",
      "display_name": "Python 3"
    },
    "language_info": {
      "name": "python"
    }
  },
  "cells": [
    {
      "cell_type": "markdown",
      "metadata": {
        "id": "view-in-github",
        "colab_type": "text"
      },
      "source": [
        "<a href=\"https://colab.research.google.com/github/Gutomoby/BolsaBrasileira/blob/main/LEITOR_PDF_CVM.ipynb\" target=\"_parent\"><img src=\"https://colab.research.google.com/assets/colab-badge.svg\" alt=\"Open In Colab\"/></a>"
      ]
    },
    {
      "cell_type": "markdown",
      "source": [
        "#Instalar as bibliotecas"
      ],
      "metadata": {
        "id": "xjhw1PBmWBsa"
      }
    },
    {
      "cell_type": "code",
      "source": [
        "#!pip install -q kora\n",
        "#!pip install pdfplumber"
      ],
      "metadata": {
        "id": "9lTTR2y3QXw0"
      },
      "execution_count": null,
      "outputs": []
    },
    {
      "cell_type": "markdown",
      "source": [
        "#Convocando as bibliotecas"
      ],
      "metadata": {
        "id": "msDUMthIWEvq"
      }
    },
    {
      "cell_type": "code",
      "source": [
        "from kora.selenium import wd\n",
        "import pandas as pd\n",
        "from google.colab.data_table import DataTable\n",
        "from time import sleep\n",
        "import pdfplumber"
      ],
      "metadata": {
        "id": "FuztTZPsQViJ"
      },
      "execution_count": 18,
      "outputs": []
    },
    {
      "cell_type": "markdown",
      "source": [
        "#Rodando código"
      ],
      "metadata": {
        "id": "x5JtlghlWIye"
      }
    },
    {
      "cell_type": "code",
      "source": [
        "wd.get('https://fnet.bmfbovespa.com.br/fnet/publico/downloadDocumento?id=244879&cvm=true')"
      ],
      "metadata": {
        "id": "F_wNuRvfThBF"
      },
      "execution_count": 36,
      "outputs": []
    },
    {
      "cell_type": "code",
      "source": [
        "import os\n",
        "\n",
        "src = os.listdir()[1]"
      ],
      "metadata": {
        "id": "CniPJtwuZXhb"
      },
      "execution_count": 42,
      "outputs": []
    },
    {
      "cell_type": "code",
      "source": [
        "pdf = pdfplumber.open(src)\n",
        "n = len(pdf.pages)\n",
        "\n",
        "for i in range (0,n):\n",
        "  with pdfplumber.open(src) as pdf:\n",
        "    page = pdf.pages[i]\n",
        "    text = page.extract_text()\n",
        "    print(text)"
      ],
      "metadata": {
        "colab": {
          "base_uri": "https://localhost:8080/"
        },
        "id": "sPE7Nv24UstB",
        "outputId": "3061f907-eac2-4b4e-d9b8-12ba24105b77"
      },
      "execution_count": 43,
      "outputs": [
        {
          "output_type": "stream",
          "name": "stdout",
          "text": [
            " \n",
            " \n",
            "BRL PROP II FUNDO DE INVESTIMENTO IMOBILIÁRIO – FII \n",
            "CNPJ nº 35.652.278/0001-28 \n",
            " \n",
            "FATO RELEVANTE \n",
            " \n",
            "A  BTG  PACTUAL SERVIÇOS FINANCEIROS S.A. DTVM, inscrita no  CNPJ sob  o  nº  59.281.253/0001-23 \n",
            "(“Administradora”), e  a  na  qualidade  de  administradora do  BRL PROP  II FUNDO  DE  INVESTIMENTO \n",
            "IMOBILIÁRIO – FII inscrito no CNPJ sob o nº 35.652.278/0001-28 (“Fundo”), vem por meio deste informar aos \n",
            "cotistas e ao mercado em geral que: \n",
            " \n",
            "I.  O Fundo celebrou, nesta data, a assinatura da escritura de compra do terreno localizado no município \n",
            "de Itajái – Santa Catarina, com área total de 210.609,28m², objeto da matrícula 67.793 do Cartório do \n",
            "1º Ofício de Imóveis de Itajaí/SC (“Terreno”). \n",
            " \n",
            "II.  O montante desembolsado pelo Fundo para a referida aquisição do Terreno foi de R$ 13.000.000,00 \n",
            "(treze milhões de reais), pagos na presente data em parcela única aos vendedores.  O Terreno será \n",
            "objeto de obras para edificação. \n",
            " \n",
            "III.  O Terreno foi adquirido para construção de edificação e implantação de galpão logístico destinado a \n",
            "locação na modalidade built-to-suit (“BTS”) para a ZF Hub Logística (“Locatária”), inscrita no CNPJ sob \n",
            "o nº 15.644.666/0001-50, nos termos do Instrumento Particular de Contrato de Locação de Bem \n",
            "Imóvel e Outras Avenças, celebrado em 25/11/2021 (“Contrato de Locação”). \n",
            " \n",
            "O Contrato de Locação tem prazo de vigência de 15 (quinze) anos, a contar da assinatura do Termo de \n",
            "Entrega de Recebimento da Obra, previsto para ocorrer em 31/10/2022, iniciando-se a locação em \n",
            "01/11/2022. O Contrato de Locação está em processo de cessão ao Fundo, que passará a ser o Locador \n",
            "do Imóvel. Mantido o cronograma contratado, o Fundo deverá receber o aluguel referente ao mês de \n",
            "nov/2022 pagos em dez/2022, no valor de R$750.000,00 (setecentos e cinquenta mil reais), que \n",
            "representam, aproximadamente, um aumento de 50% na receita do fundo.  \n",
            "  \n",
            "Permanecemos à disposição para prestar quaisquer esclarecimentos adicionais que se façam necessários. \n",
            " \n",
            "São Paulo, 10 de dezembro de 2021. \n",
            " \n",
            "BTG PACTUAL SERVIÇOS FINANCEIROS S.A. DTVM. \n",
            "BTG Pactual SAC: 0800 772 28 27 -Ouvidoria: 0800 722 00 48 - btgpactual.com \n",
            " \n"
          ]
        }
      ]
    }
  ]
}