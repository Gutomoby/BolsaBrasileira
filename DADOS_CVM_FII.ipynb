{
  "nbformat": 4,
  "nbformat_minor": 0,
  "metadata": {
    "colab": {
      "name": "DADOS CVM - FII",
      "provenance": [],
      "collapsed_sections": [
        "UPogmFIYQx3T"
      ],
      "include_colab_link": true
    },
    "kernelspec": {
      "name": "python3",
      "display_name": "Python 3"
    }
  },
  "cells": [
    {
      "cell_type": "markdown",
      "metadata": {
        "id": "view-in-github",
        "colab_type": "text"
      },
      "source": [
        "<a href=\"https://colab.research.google.com/github/Gutomoby/BolsaBrasileira/blob/main/DADOS_CVM_FII.ipynb\" target=\"_parent\"><img src=\"https://colab.research.google.com/assets/colab-badge.svg\" alt=\"Open In Colab\"/></a>"
      ]
    },
    {
      "cell_type": "markdown",
      "metadata": {
        "id": "UPogmFIYQx3T"
      },
      "source": [
        "## Configurações Iniciais"
      ]
    },
    {
      "cell_type": "code",
      "metadata": {
        "id": "Kktk0IYMfksM",
        "colab": {
          "base_uri": "https://localhost:8080/"
        },
        "outputId": "b7b25e98-32eb-4c9c-9fea-391f5363f48e"
      },
      "source": [
        "!pip install wget"
      ],
      "execution_count": null,
      "outputs": [
        {
          "output_type": "stream",
          "name": "stdout",
          "text": [
            "Collecting wget\n",
            "  Downloading wget-3.2.zip (10 kB)\n",
            "Building wheels for collected packages: wget\n",
            "  Building wheel for wget (setup.py) ... \u001b[?25l\u001b[?25hdone\n",
            "  Created wheel for wget: filename=wget-3.2-py3-none-any.whl size=9672 sha256=c987fe05696429843c5a4a17ed6b7be11eb035d2074f0c365e7d2003a7a79d6f\n",
            "  Stored in directory: /root/.cache/pip/wheels/a1/b6/7c/0e63e34eb06634181c63adacca38b79ff8f35c37e3c13e3c02\n",
            "Successfully built wget\n",
            "Installing collected packages: wget\n",
            "Successfully installed wget-3.2\n"
          ]
        }
      ]
    },
    {
      "cell_type": "code",
      "metadata": {
        "id": "8YM9CQhgS7wG"
      },
      "source": [
        "import pandas as pd\n",
        "import wget\n",
        "from zipfile import ZipFile"
      ],
      "execution_count": null,
      "outputs": []
    },
    {
      "cell_type": "markdown",
      "metadata": {
        "id": "ifdOf0OqR2E5"
      },
      "source": [
        "## Acessando a base de dados e criando arquivos históricos"
      ]
    },
    {
      "cell_type": "code",
      "metadata": {
        "id": "Ar6zTdOBTAwL"
      },
      "source": [
        "url_base = 'http://dados.cvm.gov.br/dados/FII/DOC/INF_MENSAL/DADOS/'"
      ],
      "execution_count": null,
      "outputs": []
    },
    {
      "cell_type": "markdown",
      "metadata": {
        "id": "QOhM2X0WSD9q"
      },
      "source": [
        "* criando uma lista com o nome de todos os arquivos"
      ]
    },
    {
      "cell_type": "code",
      "metadata": {
        "id": "11Sv_DLPI0hp",
        "colab": {
          "base_uri": "https://localhost:8080/"
        },
        "outputId": "e46c3293-36e5-478a-dd3f-d9e870445d2d"
      },
      "source": [
        "arquivos_zip = []\n",
        "for ano in range(2017,2022):\n",
        "  arquivos_zip.append(f'inf_mensal_fii_{ano}.zip')\n",
        "\n",
        "arquivos_zip"
      ],
      "execution_count": null,
      "outputs": [
        {
          "output_type": "execute_result",
          "data": {
            "text/plain": [
              "['inf_mensal_fii_2017.zip',\n",
              " 'inf_mensal_fii_2018.zip',\n",
              " 'inf_mensal_fii_2019.zip',\n",
              " 'inf_mensal_fii_2020.zip',\n",
              " 'inf_mensal_fii_2021.zip']"
            ]
          },
          "metadata": {},
          "execution_count": 4
        }
      ]
    },
    {
      "cell_type": "markdown",
      "metadata": {
        "id": "YAmzeqdySQfb"
      },
      "source": [
        "* fazendo o download de todos os arquivos"
      ]
    },
    {
      "cell_type": "code",
      "metadata": {
        "id": "dt2h-VTkg4j8"
      },
      "source": [
        "for arq in arquivos_zip:\n",
        "  wget.download(url_base+arq)"
      ],
      "execution_count": null,
      "outputs": []
    },
    {
      "cell_type": "markdown",
      "metadata": {
        "id": "z0X9bqTQSmVt"
      },
      "source": [
        "* extraindo os arquivos zip"
      ]
    },
    {
      "cell_type": "code",
      "metadata": {
        "id": "vDmuDRYANPRK"
      },
      "source": [
        "for arq in arquivos_zip:\n",
        "  ZipFile(arq, 'r').extractall('CVM')"
      ],
      "execution_count": null,
      "outputs": []
    },
    {
      "cell_type": "markdown",
      "metadata": {
        "id": "JueAaJX2Sr6K"
      },
      "source": [
        "* criandos arquivos históricos"
      ]
    },
    {
      "cell_type": "code",
      "metadata": {
        "id": "K8kjbgxqa7m0"
      },
      "source": [
        "!mkdir DADOS"
      ],
      "execution_count": null,
      "outputs": []
    },
    {
      "cell_type": "code",
      "metadata": {
        "id": "YyL31wqNN06_"
      },
      "source": [
        "nomes = ['ativo_passivo', 'complemento', 'geral']\n",
        "for nome in nomes:\n",
        "  arquivo = pd.DataFrame()\n",
        "  for ano in range(2017,2022):\n",
        "    arquivo = pd.concat([arquivo, pd.read_csv(f'CVM/inf_mensal_fii_{nome}_{ano}.csv', sep=';', decimal=',', encoding='ISO-8859-1')])\n",
        "  arquivo.to_csv(f'DADOS/inf_mensal_fii_{nome}_2017-2021.csv', index=False)\n"
      ],
      "execution_count": null,
      "outputs": []
    }
  ]
}