{
  "nbformat": 4,
  "nbformat_minor": 0,
  "metadata": {
    "colab": {
      "name": "DADOS CVM (Trimestral) - FII",
      "provenance": [],
      "collapsed_sections": [
        "UPogmFIYQx3T"
      ],
      "include_colab_link": true
    },
    "kernelspec": {
      "name": "python3",
      "display_name": "Python 3"
    }
  },
  "cells": [
    {
      "cell_type": "markdown",
      "metadata": {
        "id": "view-in-github",
        "colab_type": "text"
      },
      "source": [
        "<a href=\"https://colab.research.google.com/github/Gutomoby/BolsaBrasileira/blob/main/DADOS_CVM_(Trimestral)_FII.ipynb\" target=\"_parent\"><img src=\"https://colab.research.google.com/assets/colab-badge.svg\" alt=\"Open In Colab\"/></a>"
      ]
    },
    {
      "cell_type": "markdown",
      "metadata": {
        "id": "UPogmFIYQx3T"
      },
      "source": [
        "## Configurações Iniciais"
      ]
    },
    {
      "cell_type": "code",
      "metadata": {
        "id": "Kktk0IYMfksM",
        "colab": {
          "base_uri": "https://localhost:8080/"
        },
        "outputId": "88c2bdf7-f956-4f0f-9899-6ae3a45008fc"
      },
      "source": [
        "!pip install wget"
      ],
      "execution_count": 2,
      "outputs": [
        {
          "output_type": "stream",
          "name": "stdout",
          "text": [
            "Collecting wget\n",
            "  Downloading wget-3.2.zip (10 kB)\n",
            "Building wheels for collected packages: wget\n",
            "  Building wheel for wget (setup.py) ... \u001b[?25l\u001b[?25hdone\n",
            "  Created wheel for wget: filename=wget-3.2-py3-none-any.whl size=9672 sha256=261ed8225c8f6d53fe3bfe8fe7111b26bbf19d43f3ad02e99a7a43c489c6672a\n",
            "  Stored in directory: /root/.cache/pip/wheels/a1/b6/7c/0e63e34eb06634181c63adacca38b79ff8f35c37e3c13e3c02\n",
            "Successfully built wget\n",
            "Installing collected packages: wget\n",
            "Successfully installed wget-3.2\n"
          ]
        }
      ]
    },
    {
      "cell_type": "code",
      "metadata": {
        "id": "8YM9CQhgS7wG"
      },
      "source": [
        "import pandas as pd\n",
        "import wget\n",
        "from zipfile import ZipFile"
      ],
      "execution_count": 3,
      "outputs": []
    },
    {
      "cell_type": "markdown",
      "metadata": {
        "id": "ifdOf0OqR2E5"
      },
      "source": [
        "## Acessando a base de dados e criando arquivos históricos"
      ]
    },
    {
      "cell_type": "code",
      "metadata": {
        "id": "Ar6zTdOBTAwL"
      },
      "source": [
        "url_base = 'http://dados.cvm.gov.br/dados/FII/DOC/INF_TRIMESTRAL/DADOS/'"
      ],
      "execution_count": 1,
      "outputs": []
    },
    {
      "cell_type": "markdown",
      "metadata": {
        "id": "QOhM2X0WSD9q"
      },
      "source": [
        "* criando uma lista com o nome de todos os arquivos"
      ]
    },
    {
      "cell_type": "code",
      "metadata": {
        "id": "11Sv_DLPI0hp",
        "colab": {
          "base_uri": "https://localhost:8080/"
        },
        "outputId": "a35dcba7-d7d3-4916-bfd3-78aa3aee7840"
      },
      "source": [
        "arquivos_zip = []\n",
        "for ano in range(2017,2022):\n",
        "  arquivos_zip.append(f'inf_trimestral_fii_{ano}.zip')\n",
        "\n",
        "arquivos_zip"
      ],
      "execution_count": 4,
      "outputs": [
        {
          "output_type": "execute_result",
          "data": {
            "text/plain": [
              "['inf_trimestral_fii_2017.zip',\n",
              " 'inf_trimestral_fii_2018.zip',\n",
              " 'inf_trimestral_fii_2019.zip',\n",
              " 'inf_trimestral_fii_2020.zip',\n",
              " 'inf_trimestral_fii_2021.zip']"
            ]
          },
          "metadata": {},
          "execution_count": 4
        }
      ]
    },
    {
      "cell_type": "markdown",
      "metadata": {
        "id": "YAmzeqdySQfb"
      },
      "source": [
        "* fazendo o download de todos os arquivos"
      ]
    },
    {
      "cell_type": "code",
      "metadata": {
        "id": "dt2h-VTkg4j8"
      },
      "source": [
        "for arq in arquivos_zip:\n",
        "  wget.download(url_base+arq)"
      ],
      "execution_count": 9,
      "outputs": []
    },
    {
      "cell_type": "markdown",
      "metadata": {
        "id": "z0X9bqTQSmVt"
      },
      "source": [
        "* extraindo os arquivos zip"
      ]
    },
    {
      "cell_type": "code",
      "metadata": {
        "id": "vDmuDRYANPRK"
      },
      "source": [
        "for arq in arquivos_zip:\n",
        "  ZipFile(arq, 'r').extractall('CVM')"
      ],
      "execution_count": 10,
      "outputs": []
    },
    {
      "cell_type": "markdown",
      "metadata": {
        "id": "JueAaJX2Sr6K"
      },
      "source": [
        "* criandos arquivos históricos"
      ]
    },
    {
      "cell_type": "code",
      "metadata": {
        "id": "K8kjbgxqa7m0",
        "colab": {
          "base_uri": "https://localhost:8080/"
        },
        "outputId": "fa2ceaad-6361-42c2-e836-db563a1dc4b5"
      },
      "source": [
        "!mkdir DADOS"
      ],
      "execution_count": 11,
      "outputs": [
        {
          "output_type": "stream",
          "name": "stdout",
          "text": [
            "mkdir: cannot create directory ‘DADOS’: File exists\n"
          ]
        }
      ]
    },
    {
      "cell_type": "code",
      "metadata": {
        "id": "YyL31wqNN06_"
      },
      "source": [
        "nomes = ['alienacao_imovel', 'alienacao_terreno', 'aquisicao_imovel', 'aquisicao_terreno', 'ativo', 'ativo_garantia_rentabilidade', 'complemento', 'direito', 'geral', 'imovel', 'imovel_desempenho', 'imovel_renda_acabado_contrato', 'imovel_renda_acabado_inquilino', 'rentabilidade_efetiva', 'resultado_contabil_financeiro', 'terreno']\n",
        "for nome in nomes:\n",
        "  arquivo = pd.DataFrame()\n",
        "  for ano in range(2017,2022):\n",
        "    arquivo = pd.concat([arquivo, pd.read_csv(f'CVM/inf_trimestral_fii_{nome}_{ano}.csv', sep=';', decimal=',', encoding='ISO-8859-1')])\n",
        "  arquivo.to_csv(f'DADOS/inf_trimestral_fii_{nome}.csv', index=False)\n"
      ],
      "execution_count": 12,
      "outputs": []
    }
  ]
}
