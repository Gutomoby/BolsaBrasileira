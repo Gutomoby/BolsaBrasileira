{
  "nbformat": 4,
  "nbformat_minor": 0,
  "metadata": {
    "colab": {
      "name": "LEITOR_PDF_OFFLINE.ipynb",
      "provenance": [],
      "authorship_tag": "ABX9TyMJb1NUs5mYThUD8HQhVF9G",
      "include_colab_link": true
    },
    "kernelspec": {
      "name": "python3",
      "display_name": "Python 3"
    },
    "language_info": {
      "name": "python"
    }
  },
  "cells": [
    {
      "cell_type": "markdown",
      "metadata": {
        "id": "view-in-github",
        "colab_type": "text"
      },
      "source": [
        "<a href=\"https://colab.research.google.com/github/Gutomoby/BolsaBrasileira/blob/main/LEITOR_PDF_OFFLINE.ipynb\" target=\"_parent\"><img src=\"https://colab.research.google.com/assets/colab-badge.svg\" alt=\"Open In Colab\"/></a>"
      ]
    },
    {
      "cell_type": "code",
      "execution_count": null,
      "metadata": {
        "id": "-paO1OwQEb_S"
      },
      "outputs": [],
      "source": [
        "from sys import api_version\n",
        "import pdfplumber\n",
        "import pandas as pd\n",
        "from collections import namedtuple\n",
        "\n",
        "ap_url = '~/Downloads/CRA019004MY-ASS13122021V01-000245031.pdf'\n",
        "pdf = pdfplumber.open(ap_url)\n",
        "n = len(pdf.pages)\n",
        "\n",
        "for i in range (0,n):\n",
        "  with pdfplumber.open(ap_url) as pdf:\n",
        "    page = pdf.pages[i]\n",
        "    text = page.extract_text()\n",
        "    print(text)"
      ]
    }
  ]
}