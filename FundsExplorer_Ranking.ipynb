{
  "nbformat": 4,
  "nbformat_minor": 0,
  "metadata": {
    "colab": {
      "name": "FundsExplorer_Ranking.ipynb",
      "provenance": [],
      "collapsed_sections": [
        "dp3LJ_TZ6gt_",
        "JHeR7WNxR1L8",
        "U7hGWeNNRnC-",
        "25wmmodaUrmF",
        "8kl6qJSZU4La"
      ],
      "include_colab_link": true
    },
    "kernelspec": {
      "name": "python3",
      "display_name": "Python 3"
    }
  },
  "cells": [
    {
      "cell_type": "markdown",
      "metadata": {
        "id": "view-in-github",
        "colab_type": "text"
      },
      "source": [
        "<a href=\"https://colab.research.google.com/github/Gutomoby/BolsaBrasileira/blob/main/FundsExplorer_Ranking.ipynb\" target=\"_parent\"><img src=\"https://colab.research.google.com/assets/colab-badge.svg\" alt=\"Open In Colab\"/></a>"
      ]
    },
    {
      "cell_type": "markdown",
      "metadata": {
        "id": "dp3LJ_TZ6gt_"
      },
      "source": [
        "# Funds Explorer Rank - Crawler\n",
        "\n",
        "## Objetivo\n",
        "Este notebook tem por objetivo facilitar a seleção de fundos de investimentos imobiliários(FIIs), para constiutição de carteira previdênciaria com bons distribuidores de proventos, cuja distribuição seja sustentável a longo prazo.\n",
        "\n",
        "## Método\n",
        "- Extração de dados do site [Funds Explorer](https://www.fundsexplorer.com.br/)\n",
        "- Tratamento dos dados\n",
        "- Filtro baseado em requisitos minimos de aceitação\n",
        "- É necessária análise qualitativa dos papéis resultantes"
      ]
    },
    {
      "cell_type": "code",
      "metadata": {
        "id": "6DTg-35ADh9-"
      },
      "source": [
        "import datetime\n",
        "import logging\n",
        "import requests\n",
        "import numpy as np\n",
        "import pandas as pd\n",
        "import pytz"
      ],
      "execution_count": null,
      "outputs": []
    },
    {
      "cell_type": "markdown",
      "metadata": {
        "id": "JHeR7WNxR1L8"
      },
      "source": [
        "## Extração dos dados (Data Extraction)"
      ]
    },
    {
      "cell_type": "code",
      "metadata": {
        "id": "b7aupVWNCSP6"
      },
      "source": [
        "def now():\n",
        "    \"\"\"\n",
        "    Current timestamp at time zone utc\n",
        "    :returns: timestamp\n",
        "    \"\"\"\n",
        "    return pytz.UTC.localize(datetime.datetime.utcnow())\n",
        "\n",
        "\n",
        "def now_br():\n",
        "    \"\"\"\n",
        "    Current timestamp at time zone América São Paulo\n",
        "    :returns: timestamp\n",
        "    \"\"\"\n",
        "    return now().astimezone(pytz.timezone(\"America/Sao_Paulo\"))"
      ],
      "execution_count": null,
      "outputs": []
    },
    {
      "cell_type": "code",
      "metadata": {
        "id": "IPuNqGR7R_Dn"
      },
      "source": [
        "# Logging basic configuration\n",
        "logging.basicConfig(level=logging.INFO)\n",
        "_logger = logging.getLogger()"
      ],
      "execution_count": null,
      "outputs": []
    },
    {
      "cell_type": "code",
      "metadata": {
        "id": "KlnabVI8DCgb",
        "colab": {
          "base_uri": "https://localhost:8080/",
          "height": 36
        },
        "outputId": "4be835bf-213d-4fb2-ebf0-b770738dc8e2"
      },
      "source": [
        "# Updated at\n",
        "str(now_br())"
      ],
      "execution_count": null,
      "outputs": [
        {
          "output_type": "execute_result",
          "data": {
            "application/vnd.google.colaboratory.intrinsic+json": {
              "type": "string"
            },
            "text/plain": [
              "'2021-05-25 15:17:55.995607-03:00'"
            ]
          },
          "metadata": {
            "tags": []
          },
          "execution_count": 4
        }
      ]
    },
    {
      "cell_type": "code",
      "metadata": {
        "id": "kONU85UaDrJj",
        "colab": {
          "base_uri": "https://localhost:8080/"
        },
        "outputId": "a3aeb9e5-b3ff-4a6a-cc44-485083e75156"
      },
      "source": [
        "url = 'https://www.fundsexplorer.com.br/ranking'\n",
        "headers = {\n",
        "    'User-Agent': \n",
        "        'Mozilla/5.0 (Macintosh; Intel Mac OS X 10_11_4) AppleWebKit/537.36'\n",
        "        ' (KHTML, like Gecko) Chrome/51.0.2704.103 Safari/537.36'\n",
        "}\n",
        "\n",
        "# Collecting Data\n",
        "response = requests.get(url, headers)\n",
        "_logger.info(\"%s url request's status: %s\", url, response.status_code)\n",
        "# List object of Data Frames\n",
        "list_obj = pd.read_html(response.text, attrs={'id': 'table-ranking'})\n",
        "df = list_obj[0]"
      ],
      "execution_count": null,
      "outputs": [
        {
          "output_type": "stream",
          "text": [
            "INFO:root:https://www.fundsexplorer.com.br/ranking url request's status: 200\n",
            "INFO:numexpr.utils:NumExpr defaulting to 2 threads.\n"
          ],
          "name": "stderr"
        }
      ]
    },
    {
      "cell_type": "code",
      "metadata": {
        "id": "_f5ZUyVdLo80"
      },
      "source": [
        "df.head()"
      ],
      "execution_count": null,
      "outputs": []
    },
    {
      "cell_type": "code",
      "metadata": {
        "id": "tQhfevYHj355"
      },
      "source": [
        "len(df)"
      ],
      "execution_count": null,
      "outputs": []
    },
    {
      "cell_type": "code",
      "metadata": {
        "id": "rU1OxD15Qaf0"
      },
      "source": [
        "df.dtypes"
      ],
      "execution_count": null,
      "outputs": []
    },
    {
      "cell_type": "markdown",
      "metadata": {
        "id": "U7hGWeNNRnC-"
      },
      "source": [
        "## Limpeza de dados (Data Cleaning)"
      ]
    },
    {
      "cell_type": "markdown",
      "metadata": {
        "id": "25wmmodaUrmF"
      },
      "source": [
        "### Cabeçalhos\n",
        "- Remoção de espaços\n",
        "- Remoção de acentos e pontuação\n",
        "- Transformação dos caracteres para minúsculo"
      ]
    },
    {
      "cell_type": "code",
      "metadata": {
        "id": "sEApqRgkS6kn"
      },
      "source": [
        "# Cleanning data headers\n",
        "df.columns = df.columns.str.replace('\\s+', '_')\n",
        "df.columns = df.columns.str.replace(r'[^\\w\\s]+', '_')\n",
        "df.columns = df.columns.str.lower()\n",
        "df.columns = df.columns.str.normalize('NFKD').str.encode('ascii', errors='ignore').str.decode('utf-8')\n",
        "df.columns"
      ],
      "execution_count": null,
      "outputs": []
    },
    {
      "cell_type": "markdown",
      "metadata": {
        "id": "8kl6qJSZU4La"
      },
      "source": [
        "### Valores\n",
        "- Conversão de moeda em formatode texto para número\n",
        "- Remoção de espaços\n",
        "- Remoção de acentos e pontuação\n",
        "- Transformação dos caracteres para minúsculo\n"
      ]
    },
    {
      "cell_type": "code",
      "metadata": {
        "id": "EejQ3yADUzOy"
      },
      "source": [
        "df.head()"
      ],
      "execution_count": null,
      "outputs": []
    },
    {
      "cell_type": "code",
      "metadata": {
        "id": "NiVeaYr4XHOz"
      },
      "source": [
        "def columns_which_contains(df, value):\n",
        "    \"\"\"\n",
        "    Serch for DataFrame column's values which contains a specific value\n",
        "    :value: any characters, phrases, symbols\n",
        "    :returns: list of DataFrame column's names\n",
        "    \"\"\"\n",
        "    return [df[column].name for column in df if df[column].astype(str).str.contains(value).any()]"
      ],
      "execution_count": null,
      "outputs": []
    },
    {
      "cell_type": "code",
      "metadata": {
        "id": "8rwwtoNNeyrE"
      },
      "source": [
        "# Convert string BR currency to float\n",
        "currency_columns = columns_which_contains(df, '\\$')\n",
        "_logger.info(\"Currency Columns: %s\", currency_columns)\n",
        "for column_name in currency_columns:\n",
        "    df[column_name] = df[column_name].str.replace('.', '')\n",
        "    df[column_name] = df[column_name].str.replace(',', '.')\n",
        "    df[column_name] = df[column_name].str.replace('[R\\$ ,]', '', regex=True).astype(float)"
      ],
      "execution_count": null,
      "outputs": []
    },
    {
      "cell_type": "code",
      "metadata": {
        "id": "WDCSsUBDiROz"
      },
      "source": [
        "# Convert string % to float\n",
        "percentual_columns = columns_which_contains(df, '\\%')\n",
        "_logger.info(\"Percentual Columns: %s\", percentual_columns)\n",
        "for column_name in percentual_columns:\n",
        "    df[column_name] = df[column_name].str.replace(',', '.')\n",
        "    df[column_name] = df[column_name].str.replace('[%,]', '', regex=True).astype(float)\n",
        "    df[column_name] = df[column_name]/100"
      ],
      "execution_count": null,
      "outputs": []
    },
    {
      "cell_type": "code",
      "metadata": {
        "id": "V0-63A1ahTiX"
      },
      "source": [
        "df.head()"
      ],
      "execution_count": null,
      "outputs": []
    },
    {
      "cell_type": "code",
      "metadata": {
        "id": "Fe3tZ-zTkCBw"
      },
      "source": [
        "df['setor'] = df['setor'].str.replace('\\s+', '_')\n",
        "df['setor'] = df['setor'].str.replace(r'[^\\w\\s]+', '_')\n",
        "df['setor'] = df['setor'].str.lower()\n",
        "df['setor'] = df['setor'].str.normalize('NFKD').str.encode('ascii', errors='ignore').str.decode('utf-8')"
      ],
      "execution_count": null,
      "outputs": []
    },
    {
      "cell_type": "markdown",
      "metadata": {
        "id": "IAb-ixK5yvA9"
      },
      "source": [
        "## Definindo requisitos para filtro"
      ]
    },
    {
      "cell_type": "code",
      "metadata": {
        "id": "qVb1_FKO6ZhU"
      },
      "source": [
        "# Convert p/vpa to the correct base\n",
        "df['p_vpa'] = df['p_vpa']/100\n",
        "\n",
        "# Price vs net worth\n",
        "\n",
        "col         = 'p_vpa'\n",
        "conditions  = [ (df[col] > 0.9) & (df[col] < 1.1), (df[col] <= 0.9), df[col] >= 1.1, df[col].isnull() ]\n",
        "choices     = [ 'Mercado', 'Desconto', 'Caro', 'Sem histórico' ]\n",
        "\n",
        "df['desconto_mercado'] = np.select(conditions, choices, default=np.nan)\n",
        "\n",
        "# Asset diversification\n",
        "col         = 'quantidadeativos'\n",
        "conditions  = [ df[col] > 7, df[col] < 1, (df[col] >= 1) & (df[col] < 7) ]\n",
        "choices     = [ 'Diversificado', 'Não Possui', 'Concentrado' ]\n",
        "df['diversidade_de_ativos'] = np.select(conditions, choices, default=np.nan)\n",
        "\n",
        "# Vacancy\n",
        "\n",
        "col         = 'vacanciafisica'\n",
        "conditions  = [ (df[col] > 0.1) & (df[col] < 0.15), df[col] > 0.15, df[col] < 0.1, df[col].isnull() ]\n",
        "choices     = [ 'Média', 'Alta', 'Baixa', 'Sem histórico' ]\n",
        "\n",
        "df['vacância_comparativo'] = np.select(conditions, choices, default=np.nan)\n",
        "\n",
        "# Liquidity\n",
        "\n",
        "col         = 'liquidez_diaria'\n",
        "conditions  = [ (df[col] > 0) & (df[col] < 25000), (df[col] > 25000) & (df[col] < 100000), df[col] > 1000000, df[col].isnull() ]\n",
        "choices     = [ 'Ilíquido', 'Média Liquidez', 'Alta Liquidez', 'Sem histórico' ]\n",
        "\n",
        "df['volume_negociado'] = np.select(conditions, choices, default=np.nan)\n",
        "\n",
        "# dividend yield\n",
        "\n",
        "col         = 'dividendyield'\n",
        "conditions  = [ (df[col] > 0.006) & (df[col] < 0.008), (df[col] <= 0.006), df[col] >= 0.008, df[col].isnull() ]\n",
        "choices     = [ 'Yield Padrão', 'Yield Baixo', 'Yield Alto', 'Sem histórico' ]\n",
        "\n",
        "df['distribuição'] = np.select(conditions, choices, default=np.nan)"
      ],
      "execution_count": null,
      "outputs": []
    },
    {
      "cell_type": "markdown",
      "metadata": {
        "id": "zANqRRqafIaB"
      },
      "source": [
        "### Resultado\n",
        "*Os papéis abaixo não são recomendação de compra, mas sim estudo*."
      ]
    },
    {
      "cell_type": "code",
      "metadata": {
        "id": "o7-nfMF3tzLO"
      },
      "source": [
        "pd.options.display.max_rows = 999\n",
        "resultado = df.drop(['dypatrimonial','variacaopatrimonial','rentab__patr_no_periodo','rentab__patr_acumulada','vacanciafinanceira'], axis=1)\n",
        "resultado.to_excel(\"analise_quant_automatica.xlsx\", sheet_name='Analise_Robo')"
      ],
      "execution_count": null,
      "outputs": []
    }
  ]
}