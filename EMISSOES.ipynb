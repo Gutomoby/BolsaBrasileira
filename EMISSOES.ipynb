{
  "nbformat": 4,
  "nbformat_minor": 0,
  "metadata": {
    "colab": {
      "name": "EMISSOES.ipynb",
      "provenance": [],
      "collapsed_sections": [],
      "authorship_tag": "ABX9TyOk5X62k7Vb7P5GL6L9Npoc",
      "include_colab_link": true
    },
    "kernelspec": {
      "name": "python3",
      "display_name": "Python 3"
    }
  },
  "cells": [
    {
      "cell_type": "markdown",
      "metadata": {
        "id": "view-in-github",
        "colab_type": "text"
      },
      "source": [
        "<a href=\"https://colab.research.google.com/github/Gutomoby/BolsaBrasileira/blob/main/EMISSOES.ipynb\" target=\"_parent\"><img src=\"https://colab.research.google.com/assets/colab-badge.svg\" alt=\"Open In Colab\"/></a>"
      ]
    },
    {
      "cell_type": "code",
      "metadata": {
        "id": "wsOg75x8kJ-J"
      },
      "source": [
        "import pandas as pd\n",
        "emissoes = pd.read_html(\"https://ticker11.com.br/emissoes/\",  decimal=',', thousands='.')\n",
        "Andamento = emissoes[0].set_index('Fundo')\n",
        "Espera = emissoes[1].set_index('Fundo')\n",
        "Encerrada = emissoes[2].set_index('Fundo')"
      ],
      "execution_count": null,
      "outputs": []
    },
    {
      "cell_type": "code",
      "metadata": {
        "id": "F60j6Y5SkYao"
      },
      "source": [
        "with pd.ExcelWriter('Emissoes.xlsx') as writer:  \n",
        "  andamento.to_excel(writer, sheet_name='Em Andamento')\n",
        "  espera.to_excel(writer, sheet_name='Em Espera')\n",
        "  encerrada.to_excel(writer, sheet_name='Encerradas')"
      ],
      "execution_count": null,
      "outputs": []
    }
  ]
}